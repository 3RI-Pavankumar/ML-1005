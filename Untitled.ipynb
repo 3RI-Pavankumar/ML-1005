{
 "cells": [
  {
   "cell_type": "code",
   "execution_count": 1,
   "id": "f55aa189-b4e6-4026-a0ea-728af933e609",
   "metadata": {},
   "outputs": [],
   "source": [
    "import numpy as np\n",
    "import matplotlib.pyplot as plt\n",
    "import warnings\n",
    "warnings.filterwarnings(\"ignore\")"
   ]
  },
  {
   "cell_type": "code",
   "execution_count": 2,
   "id": "95407300-f163-4a62-b4c5-ce1ebed8db1d",
   "metadata": {},
   "outputs": [],
   "source": [
    "Area = np.array([350, 430, 455, 557, 640, 700, 770, 860, 900])\n",
    "Price = np.array([11, 22, 41, 38, 57, 74, 70, 79, 88])"
   ]
  },
  {
   "cell_type": "code",
   "execution_count": 3,
   "id": "b686ec57-e795-44be-a490-2abe3b16b26a",
   "metadata": {},
   "outputs": [],
   "source": [
    "X = Area\n",
    "y = Price"
   ]
  },
  {
   "cell_type": "code",
   "execution_count": 4,
   "id": "86adfbb6-a834-4b6d-9fb7-0923ed24cdfc",
   "metadata": {},
   "outputs": [],
   "source": [
    "lr = 0.01\n",
    "b = 123\n",
    "m = 0.13282388809365295\n",
    "\n",
    "for i in range(100):\n",
    "    b_slope= -2*np.sum(y-m*X-b)\n",
    "    # m_slope = -2*np.sum((y-m*X-b)*X)\n",
    "\n",
    "    b=b-(lr*b_slope)\n",
    "    # m=m-(lr*m_slope)\n",
    "    "
   ]
  },
  {
   "cell_type": "code",
   "execution_count": 5,
   "id": "cea4c99b-8b21-4a34-94f9-671555b61ec3",
   "metadata": {},
   "outputs": [
    {
     "data": {
      "text/plain": [
       "-30.227650118620748"
      ]
     },
     "execution_count": 5,
     "metadata": {},
     "output_type": "execute_result"
    }
   ],
   "source": [
    "b"
   ]
  },
  {
   "cell_type": "code",
   "execution_count": 6,
   "id": "dc0b2c4e-2a00-4bec-b3ef-761530aab269",
   "metadata": {},
   "outputs": [],
   "source": [
    "lr = 0.01\n",
    "b = -30.227650118620748\n",
    "m = 23\n",
    "\n",
    "for i in range(100):\n",
    "    # b_slope= -2*np.sum(y-m*X-b)\n",
    "    m_slope = -2*np.sum((y-m*X-b)*X)\n",
    "\n",
    "    # b=b-(lr*b_slope)\n",
    "    m=m-(lr*m_slope)"
   ]
  },
  {
   "cell_type": "code",
   "execution_count": 7,
   "id": "d05345cf-76d5-4f66-944f-a2a9a1c6a3bd",
   "metadata": {},
   "outputs": [
    {
     "data": {
      "text/plain": [
       "nan"
      ]
     },
     "execution_count": 7,
     "metadata": {},
     "output_type": "execute_result"
    }
   ],
   "source": [
    "m"
   ]
  },
  {
   "cell_type": "code",
   "execution_count": null,
   "id": "22a2274a-0ba9-4140-83a2-a5d8b98f5779",
   "metadata": {},
   "outputs": [],
   "source": []
  }
 ],
 "metadata": {
  "kernelspec": {
   "display_name": "Python 3 (ipykernel)",
   "language": "python",
   "name": "python3"
  },
  "language_info": {
   "codemirror_mode": {
    "name": "ipython",
    "version": 3
   },
   "file_extension": ".py",
   "mimetype": "text/x-python",
   "name": "python",
   "nbconvert_exporter": "python",
   "pygments_lexer": "ipython3",
   "version": "3.11.7"
  },
  "widgets": {
   "application/vnd.jupyter.widget-state+json": {
    "state": {},
    "version_major": 2,
    "version_minor": 0
   }
  }
 },
 "nbformat": 4,
 "nbformat_minor": 5
}
