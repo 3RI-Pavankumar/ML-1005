{
 "cells": [
  {
   "cell_type": "code",
   "execution_count": 1,
   "id": "08ae47c6-8360-4c20-a856-3d0f9b25f2e3",
   "metadata": {},
   "outputs": [],
   "source": [
    "import numpy as np\n",
    "import pandas as pd\n",
    "import matplotlib.pyplot as plt\n",
    "import seaborn as sns\n",
    "import warnings\n",
    "warnings.filterwarnings(\"ignore\")"
   ]
  },
  {
   "cell_type": "code",
   "execution_count": 4,
   "id": "8f9dc263-d45e-4440-97fc-6e6605984d73",
   "metadata": {},
   "outputs": [],
   "source": [
    "from sklearn.datasets import make_blobs"
   ]
  },
  {
   "cell_type": "code",
   "execution_count": 11,
   "id": "cb6185d3-347c-4905-a0ca-67eb12a20507",
   "metadata": {},
   "outputs": [],
   "source": [
    "X, y = make_blobs(n_samples=10, n_features=2, centers=[[1,2], [3,4]])"
   ]
  },
  {
   "cell_type": "code",
   "execution_count": 12,
   "id": "405d7fac-cc51-4c44-8a60-bc2d470b81ed",
   "metadata": {
    "scrolled": true
   },
   "outputs": [
    {
     "data": {
      "image/png": "[encoded data removed]",
      "text/plain": [
       "<Figure size 640x480 with 1 Axes>"
      ]
     },
     "metadata": {},
     "output_type": "display_data"
    }
   ],
   "source": [
    "plt.scatter(X[y==0, 0], X[y==0, 1])\n",
    "plt.scatter(X[y==1, 0], X[y==1, 1])\n",
    "plt.show()"
   ]
  },
  {
   "cell_type": "code",
   "execution_count": 13,
   "id": "a352411a-57ec-4dbf-9cd2-28dc76ece910",
   "metadata": {},
   "outputs": [],
   "source": [
    "new_point = np.array([2, 2.5])"
   ]
  },
  {
   "cell_type": "code",
   "execution_count": 14,
   "id": "7788814c-7fc2-4d73-b015-f8741bf7f585",
   "metadata": {
    "scrolled": true
   },
   "outputs": [
    {
     "data": {
      "text/plain": [
       "array([[ 2.99949727,  1.28643525],\n",
       "       [ 3.97350699,  3.62279362],\n",
       "       [ 3.37080496,  5.38565507],\n",
       "       [ 1.84282591,  2.45848766],\n",
       "       [ 0.83152409,  1.69750609],\n",
       "       [ 1.52668239,  2.45795888],\n",
       "       [ 3.83181373,  3.6115718 ],\n",
       "       [ 1.52981658,  1.70016124],\n",
       "       [ 1.8491429 ,  6.40945523],\n",
       "       [-0.10611038,  1.9022877 ]])"
      ]
     },
     "execution_count": 14,
     "metadata": {},
     "output_type": "execute_result"
    }
   ],
   "source": [
    "X"
   ]
  },
  {
   "cell_type": "code",
   "execution_count": 15,
   "id": "56774021-c482-4377-b864-da2e969ec599",
   "metadata": {},
   "outputs": [
    {
     "data": {
      "text/plain": [
       "array([0, 1, 1, 1, 0, 0, 1, 0, 1, 0])"
      ]
     },
     "execution_count": 15,
     "metadata": {},
     "output_type": "execute_result"
    }
   ],
   "source": [
    "y"
   ]
  },
  {
   "cell_type": "code",
   "execution_count": 16,
   "id": "3f6aa162-602a-4177-b774-57d976cf1d68",
   "metadata": {},
   "outputs": [],
   "source": [
    "df = pd.DataFrame(X,columns=[\"x1\", \"y1\"])"
   ]
  },
  {
   "cell_type": "code",
   "execution_count": 18,
   "id": "e6fa4429-af39-4ee2-bf14-178c2c350829",
   "metadata": {
    "scrolled": true
   },
   "outputs": [
    {
     "data": {
      "text/html": [
       "<div>\n",
       "<style scoped>\n",
       "    .dataframe tbody tr th:only-of-type {\n",
       "        vertical-align: middle;\n",
       "    }\n",
       "\n",
       "    .dataframe tbody tr th {\n",
       "        vertical-align: top;\n",
       "    }\n",
       "\n",
       "    .dataframe thead th {\n",
       "        text-align: right;\n",
       "    }\n",
       "</style>\n",
       "<table border=\"1\" class=\"dataframe\">\n",
       "  <thead>\n",
       "    <tr style=\"text-align: right;\">\n",
       "      <th></th>\n",
       "      <th>x1</th>\n",
       "      <th>y1</th>\n",
       "      <th>target</th>\n",
       "    </tr>\n",
       "  </thead>\n",
       "  <tbody>\n",
       "    <tr>\n",
       "      <th>0</th>\n",
       "      <td>2.999497</td>\n",
       "      <td>1.286435</td>\n",
       "      <td>0</td>\n",
       "    </tr>\n",
       "    <tr>\n",
       "      <th>1</th>\n",
       "      <td>3.973507</td>\n",
       "      <td>3.622794</td>\n",
       "      <td>1</td>\n",
       "    </tr>\n",
       "    <tr>\n",
       "      <th>2</th>\n",
       "      <td>3.370805</td>\n",
       "      <td>5.385655</td>\n",
       "      <td>1</td>\n",
       "    </tr>\n",
       "    <tr>\n",
       "      <th>3</th>\n",
       "      <td>1.842826</td>\n",
       "      <td>2.458488</td>\n",
       "      <td>1</td>\n",
       "    </tr>\n",
       "    <tr>\n",
       "      <th>4</th>\n",
       "      <td>0.831524</td>\n",
       "      <td>1.697506</td>\n",
       "      <td>0</td>\n",
       "    </tr>\n",
       "    <tr>\n",
       "      <th>5</th>\n",
       "      <td>1.526682</td>\n",
       "      <td>2.457959</td>\n",
       "      <td>0</td>\n",
       "    </tr>\n",
       "    <tr>\n",
       "      <th>6</th>\n",
       "      <td>3.831814</td>\n",
       "      <td>3.611572</td>\n",
       "      <td>1</td>\n",
       "    </tr>\n",
       "    <tr>\n",
       "      <th>7</th>\n",
       "      <td>1.529817</td>\n",
       "      <td>1.700161</td>\n",
       "      <td>0</td>\n",
       "    </tr>\n",
       "    <tr>\n",
       "      <th>8</th>\n",
       "      <td>1.849143</td>\n",
       "      <td>6.409455</td>\n",
       "      <td>1</td>\n",
       "    </tr>\n",
       "    <tr>\n",
       "      <th>9</th>\n",
       "      <td>-0.106110</td>\n",
       "      <td>1.902288</td>\n",
       "      <td>0</td>\n",
       "    </tr>\n",
       "  </tbody>\n",
       "</table>\n",
       "</div>"
      ],
      "text/plain": [
       "         x1        y1  target\n",
       "0  2.999497  1.286435       0\n",
       "1  3.973507  3.622794       1\n",
       "2  3.370805  5.385655       1\n",
       "3  1.842826  2.458488       1\n",
       "4  0.831524  1.697506       0\n",
       "5  1.526682  2.457959       0\n",
       "6  3.831814  3.611572       1\n",
       "7  1.529817  1.700161       0\n",
       "8  1.849143  6.409455       1\n",
       "9 -0.106110  1.902288       0"
      ]
     },
     "execution_count": 18,
     "metadata": {},
     "output_type": "execute_result"
    }
   ],
   "source": [
    "df[\"target\"] = y\n",
    "df"
   ]
  },
  {
   "cell_type": "code",
   "execution_count": 19,
   "id": "9634f9b3-da8d-4f02-a535-292771c278b5",
   "metadata": {},
   "outputs": [],
   "source": [
    "dist = np.sqrt(np.square(new_point[0]-df[\"x1\"])+np.square(new_point[1]-df[\"y1\"]))"
   ]
  },
  {
   "cell_type": "code",
   "execution_count": 20,
   "id": "9f02fc7f-40f9-41b8-882a-2566aa391ea3",
   "metadata": {
    "scrolled": true
   },
   "outputs": [
    {
     "data": {
      "text/plain": [
       "0    1.572175\n",
       "1    2.270550\n",
       "2    3.194701\n",
       "3    0.162564\n",
       "4    1.417509\n",
       "5    0.475181\n",
       "6    2.142693\n",
       "7    0.927801\n",
       "8    3.912365\n",
       "9    2.189283\n",
       "dtype: float64"
      ]
     },
     "execution_count": 20,
     "metadata": {},
     "output_type": "execute_result"
    }
   ],
   "source": [
    "dist"
   ]
  },
  {
   "cell_type": "code",
   "execution_count": 22,
   "id": "bc60151b-0478-44e4-b30e-9f444e04af24",
   "metadata": {},
   "outputs": [],
   "source": [
    "new_df = df.copy()"
   ]
  },
  {
   "cell_type": "code",
   "execution_count": 23,
   "id": "ceef0088-13d1-4838-9f0b-6770e0f10652",
   "metadata": {},
   "outputs": [],
   "source": [
    "new_df[\"Distance\"] = dist"
   ]
  },
  {
   "cell_type": "code",
   "execution_count": 24,
   "id": "63ac3dd4-cd44-4b78-95b8-fb10661a63fa",
   "metadata": {
    "scrolled": true
   },
   "outputs": [
    {
     "data": {
      "text/html": [
       "<div>\n",
       "<style scoped>\n",
       "    .dataframe tbody tr th:only-of-type {\n",
       "        vertical-align: middle;\n",
       "    }\n",
       "\n",
       "    .dataframe tbody tr th {\n",
       "        vertical-align: top;\n",
       "    }\n",
       "\n",
       "    .dataframe thead th {\n",
       "        text-align: right;\n",
       "    }\n",
       "</style>\n",
       "<table border=\"1\" class=\"dataframe\">\n",
       "  <thead>\n",
       "    <tr style=\"text-align: right;\">\n",
       "      <th></th>\n",
       "      <th>x1</th>\n",
       "      <th>y1</th>\n",
       "      <th>target</th>\n",
       "      <th>Distance</th>\n",
       "    </tr>\n",
       "  </thead>\n",
       "  <tbody>\n",
       "    <tr>\n",
       "      <th>0</th>\n",
       "      <td>2.999497</td>\n",
       "      <td>1.286435</td>\n",
       "      <td>0</td>\n",
       "      <td>1.572175</td>\n",
       "    </tr>\n",
       "    <tr>\n",
       "      <th>1</th>\n",
       "      <td>3.973507</td>\n",
       "      <td>3.622794</td>\n",
       "      <td>1</td>\n",
       "      <td>2.270550</td>\n",
       "    </tr>\n",
       "    <tr>\n",
       "      <th>2</th>\n",
       "      <td>3.370805</td>\n",
       "      <td>5.385655</td>\n",
       "      <td>1</td>\n",
       "      <td>3.194701</td>\n",
       "    </tr>\n",
       "    <tr>\n",
       "      <th>3</th>\n",
       "      <td>1.842826</td>\n",
       "      <td>2.458488</td>\n",
       "      <td>1</td>\n",
       "      <td>0.162564</td>\n",
       "    </tr>\n",
       "    <tr>\n",
       "      <th>4</th>\n",
       "      <td>0.831524</td>\n",
       "      <td>1.697506</td>\n",
       "      <td>0</td>\n",
       "      <td>1.417509</td>\n",
       "    </tr>\n",
       "    <tr>\n",
       "      <th>5</th>\n",
       "      <td>1.526682</td>\n",
       "      <td>2.457959</td>\n",
       "      <td>0</td>\n",
       "      <td>0.475181</td>\n",
       "    </tr>\n",
       "    <tr>\n",
       "      <th>6</th>\n",
       "      <td>3.831814</td>\n",
       "      <td>3.611572</td>\n",
       "      <td>1</td>\n",
       "      <td>2.142693</td>\n",
       "    </tr>\n",
       "    <tr>\n",
       "      <th>7</th>\n",
       "      <td>1.529817</td>\n",
       "      <td>1.700161</td>\n",
       "      <td>0</td>\n",
       "      <td>0.927801</td>\n",
       "    </tr>\n",
       "    <tr>\n",
       "      <th>8</th>\n",
       "      <td>1.849143</td>\n",
       "      <td>6.409455</td>\n",
       "      <td>1</td>\n",
       "      <td>3.912365</td>\n",
       "    </tr>\n",
       "    <tr>\n",
       "      <th>9</th>\n",
       "      <td>-0.106110</td>\n",
       "      <td>1.902288</td>\n",
       "      <td>0</td>\n",
       "      <td>2.189283</td>\n",
       "    </tr>\n",
       "  </tbody>\n",
       "</table>\n",
       "</div>"
      ],
      "text/plain": [
       "         x1        y1  target  Distance\n",
       "0  2.999497  1.286435       0  1.572175\n",
       "1  3.973507  3.622794       1  2.270550\n",
       "2  3.370805  5.385655       1  3.194701\n",
       "3  1.842826  2.458488       1  0.162564\n",
       "4  0.831524  1.697506       0  1.417509\n",
       "5  1.526682  2.457959       0  0.475181\n",
       "6  3.831814  3.611572       1  2.142693\n",
       "7  1.529817  1.700161       0  0.927801\n",
       "8  1.849143  6.409455       1  3.912365\n",
       "9 -0.106110  1.902288       0  2.189283"
      ]
     },
     "execution_count": 24,
     "metadata": {},
     "output_type": "execute_result"
    }
   ],
   "source": [
    "new_df"
   ]
  },
  {
   "cell_type": "code",
   "execution_count": 26,
   "id": "4b4ae1cf-8bd3-4358-9430-d46be92948a0",
   "metadata": {},
   "outputs": [],
   "source": [
    "k = 3"
   ]
  },
  {
   "cell_type": "code",
   "execution_count": 32,
   "id": "c60675ec-94cc-4a20-a994-3d529fa40676",
   "metadata": {
    "scrolled": true
   },
   "outputs": [
    {
     "data": {
      "text/html": [
       "<div>\n",
       "<style scoped>\n",
       "    .dataframe tbody tr th:only-of-type {\n",
       "        vertical-align: middle;\n",
       "    }\n",
       "\n",
       "    .dataframe tbody tr th {\n",
       "        vertical-align: top;\n",
       "    }\n",
       "\n",
       "    .dataframe thead th {\n",
       "        text-align: right;\n",
       "    }\n",
       "</style>\n",
       "<table border=\"1\" class=\"dataframe\">\n",
       "  <thead>\n",
       "    <tr style=\"text-align: right;\">\n",
       "      <th></th>\n",
       "      <th>target</th>\n",
       "      <th>Distance</th>\n",
       "    </tr>\n",
       "  </thead>\n",
       "  <tbody>\n",
       "    <tr>\n",
       "      <th>3</th>\n",
       "      <td>1</td>\n",
       "      <td>0.162564</td>\n",
       "    </tr>\n",
       "    <tr>\n",
       "      <th>5</th>\n",
       "      <td>0</td>\n",
       "      <td>0.475181</td>\n",
       "    </tr>\n",
       "    <tr>\n",
       "      <th>7</th>\n",
       "      <td>0</td>\n",
       "      <td>0.927801</td>\n",
       "    </tr>\n",
       "  </tbody>\n",
       "</table>\n",
       "</div>"
      ],
      "text/plain": [
       "   target  Distance\n",
       "3       1  0.162564\n",
       "5       0  0.475181\n",
       "7       0  0.927801"
      ]
     },
     "execution_count": 32,
     "metadata": {},
     "output_type": "execute_result"
    }
   ],
   "source": [
    "new_df.sort_values(\"Distance\")[[\"target\", \"Distance\"]].head(k)"
   ]
  },
  {
   "cell_type": "code",
   "execution_count": 29,
   "id": "f88cc2a3-41f1-40b3-ad10-dd99f1ae2711",
   "metadata": {},
   "outputs": [],
   "source": [
    "# As the majority class is belong to 0, it means the new point will be of 0 class."
   ]
  },
  {
   "cell_type": "code",
   "execution_count": 30,
   "id": "6645d38e-090d-4b1c-9747-19e4b70df0d0",
   "metadata": {
    "scrolled": true
   },
   "outputs": [
    {
     "data": {
      "image/png": "[encoded data removed]",
      "text/plain": [
       "<Figure size 640x480 with 1 Axes>"
      ]
     },
     "metadata": {},
     "output_type": "display_data"
    }
   ],
   "source": [
    "plt.scatter(X[y==0, 0], X[y==0, 1], label = \"Class 0\")\n",
    "plt.scatter(X[y==1, 0], X[y==1, 1], label = \"Class 1\")\n",
    "plt.scatter(new_point[0], new_point[1], label = \"New Point\")\n",
    "plt.legend()\n",
    "plt.title(\"K Nearest Neighbors\")\n",
    "plt.xlabel(\"x1\")\n",
    "plt.ylabel(\"y1\")\n",
    "plt.show()"
   ]
  },
  {
   "cell_type": "code",
   "execution_count": null,
   "id": "813786ce-fc97-4229-b0c1-6c821058f3e7",
   "metadata": {},
   "outputs": [],
   "source": []
  }
 ],
 "metadata": {
  "kernelspec": {
   "display_name": "Python 3 (ipykernel)",
   "language": "python",
   "name": "python3"
  },
  "language_info": {
   "codemirror_mode": {
    "name": "ipython",
    "version": 3
   },
   "file_extension": ".py",
   "mimetype": "text/x-python",
   "name": "python",
   "nbconvert_exporter": "python",
   "pygments_lexer": "ipython3",
   "version": "3.11.7"
  },
  "widgets": {
   "application/vnd.jupyter.widget-state+json": {
    "state": {},
    "version_major": 2,
    "version_minor": 0
   }
  }
 },
 "nbformat": 4,
 "nbformat_minor": 5
}
