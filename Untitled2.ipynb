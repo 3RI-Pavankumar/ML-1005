{
 "cells": [
  {
   "cell_type": "code",
   "execution_count": 1,
   "id": "2a27f7d1-2e08-4948-becc-de9b4ffc3ffc",
   "metadata": {},
   "outputs": [],
   "source": [
    "import numpy as np"
   ]
  },
  {
   "cell_type": "code",
   "execution_count": 2,
   "id": "1ca708f1-557d-4ba7-b15c-3a329ce988f7",
   "metadata": {},
   "outputs": [],
   "source": [
    "p_yes = 9/14\n",
    "p_no = 5/14"
   ]
  },
  {
   "cell_type": "code",
   "execution_count": 3,
   "id": "66d23e77-17b7-4faf-b31a-f76d103fa749",
   "metadata": {},
   "outputs": [],
   "source": [
    "E = -p_yes*np.log2(p_yes)-p_no*np.log2(p_no)"
   ]
  },
  {
   "cell_type": "code",
   "execution_count": 4,
   "id": "ce925f82-6ffb-4cf5-accf-44aecac551cb",
   "metadata": {},
   "outputs": [
    {
     "data": {
      "text/plain": [
       "0.9402859586706311"
      ]
     },
     "execution_count": 4,
     "metadata": {},
     "output_type": "execute_result"
    }
   ],
   "source": [
    "E"
   ]
  },
  {
   "cell_type": "code",
   "execution_count": 17,
   "id": "bd577502-1897-4b26-986a-e985157c55de",
   "metadata": {},
   "outputs": [],
   "source": [
    "def entropy_calc(yes, no):\n",
    "    if yes == 0 or no == 0:\n",
    "        return 0\n",
    "    else:\n",
    "        total = yes + no\n",
    "        p_yes = yes/total\n",
    "        p_no = no/total\n",
    "        return -p_yes*np.log2(p_yes)-p_no*np.log2(p_no)"
   ]
  },
  {
   "cell_type": "code",
   "execution_count": 18,
   "id": "b08b18f0-2b09-4f3c-af28-4c4731c4f110",
   "metadata": {},
   "outputs": [],
   "source": [
    "sunny_entropy = entropy_calc(2, 3)"
   ]
  },
  {
   "cell_type": "code",
   "execution_count": 19,
   "id": "2a4519df-c85f-4cd9-9b15-4abbadff0bc9",
   "metadata": {},
   "outputs": [
    {
     "data": {
      "text/plain": [
       "0.9709505944546686"
      ]
     },
     "execution_count": 19,
     "metadata": {},
     "output_type": "execute_result"
    }
   ],
   "source": [
    "sunny_entropy"
   ]
  },
  {
   "cell_type": "code",
   "execution_count": 20,
   "id": "7aaad975-dad7-47c8-86e3-efa397adae25",
   "metadata": {},
   "outputs": [
    {
     "data": {
      "text/plain": [
       "0"
      ]
     },
     "execution_count": 20,
     "metadata": {},
     "output_type": "execute_result"
    }
   ],
   "source": [
    "overcast_entropy = entropy_calc(4, 0)\n",
    "overcast_entropy"
   ]
  },
  {
   "cell_type": "code",
   "execution_count": 21,
   "id": "3f44139b-0097-4135-9fd7-e636582c1b8b",
   "metadata": {},
   "outputs": [
    {
     "data": {
      "text/plain": [
       "0.9709505944546686"
      ]
     },
     "execution_count": 21,
     "metadata": {},
     "output_type": "execute_result"
    }
   ],
   "source": [
    "rainy_entropy = entropy_calc(3, 2)\n",
    "rainy_entropy"
   ]
  },
  {
   "cell_type": "code",
   "execution_count": 22,
   "id": "e8815dfd-6e07-4b83-bae8-a6d609f1b250",
   "metadata": {},
   "outputs": [
    {
     "data": {
      "text/plain": [
       "1.0"
      ]
     },
     "execution_count": 22,
     "metadata": {},
     "output_type": "execute_result"
    }
   ],
   "source": [
    "hot_entropy = entropy_calc(2, 2)\n",
    "hot_entropy"
   ]
  },
  {
   "cell_type": "code",
   "execution_count": 23,
   "id": "4b2e117b-e3a9-4db9-b471-492a3c46c26a",
   "metadata": {},
   "outputs": [
    {
     "data": {
      "text/plain": [
       "0.9182958340544896"
      ]
     },
     "execution_count": 23,
     "metadata": {},
     "output_type": "execute_result"
    }
   ],
   "source": [
    "mild_entropy = entropy_calc(4, 2)\n",
    "mild_entropy"
   ]
  },
  {
   "cell_type": "code",
   "execution_count": 24,
   "id": "9e9e6deb-d08f-4c3e-8042-a85077135548",
   "metadata": {},
   "outputs": [
    {
     "data": {
      "text/plain": [
       "0.8112781244591328"
      ]
     },
     "execution_count": 24,
     "metadata": {},
     "output_type": "execute_result"
    }
   ],
   "source": [
    "cool_entropy = entropy_calc(3, 1)\n",
    "cool_entropy"
   ]
  },
  {
   "cell_type": "code",
   "execution_count": 25,
   "id": "f220da6d-f957-4589-9250-c2edd68598d8",
   "metadata": {},
   "outputs": [
    {
     "data": {
      "text/plain": [
       "0.9852281360342515"
      ]
     },
     "execution_count": 25,
     "metadata": {},
     "output_type": "execute_result"
    }
   ],
   "source": [
    "high_entropy = entropy_calc(3, 4)\n",
    "high_entropy"
   ]
  },
  {
   "cell_type": "code",
   "execution_count": 26,
   "id": "918f0ee5-e9cc-4cd8-b9d8-5929e673381f",
   "metadata": {},
   "outputs": [
    {
     "data": {
      "text/plain": [
       "0.5916727785823275"
      ]
     },
     "execution_count": 26,
     "metadata": {},
     "output_type": "execute_result"
    }
   ],
   "source": [
    "normal_entropy = entropy_calc(6, 1)\n",
    "normal_entropy"
   ]
  },
  {
   "cell_type": "code",
   "execution_count": 27,
   "id": "dadd2a5e-f328-4d5b-95d5-b64d6ea0c81a",
   "metadata": {},
   "outputs": [
    {
     "data": {
      "text/plain": [
       "0.8112781244591328"
      ]
     },
     "execution_count": 27,
     "metadata": {},
     "output_type": "execute_result"
    }
   ],
   "source": [
    "weak_entropy = entropy_calc(6, 2)\n",
    "weak_entropy"
   ]
  },
  {
   "cell_type": "code",
   "execution_count": 28,
   "id": "87eb4965-24bf-4f2c-af8a-d6c99cde9b54",
   "metadata": {},
   "outputs": [
    {
     "data": {
      "text/plain": [
       "1.0"
      ]
     },
     "execution_count": 28,
     "metadata": {},
     "output_type": "execute_result"
    }
   ],
   "source": [
    "strong_entropy = entropy_calc(3, 3)\n",
    "strong_entropy"
   ]
  },
  {
   "cell_type": "code",
   "execution_count": 29,
   "id": "131c3c73-091e-4c5f-bd97-cb2bc790d625",
   "metadata": {},
   "outputs": [
    {
     "data": {
      "text/plain": [
       "0.9182958340544896"
      ]
     },
     "execution_count": 29,
     "metadata": {},
     "output_type": "execute_result"
    }
   ],
   "source": [
    "entropy_calc(1, 2)"
   ]
  },
  {
   "cell_type": "code",
   "execution_count": null,
   "id": "fd8b4d45-18af-49a2-b846-c2a389c32ed6",
   "metadata": {},
   "outputs": [],
   "source": []
  }
 ],
 "metadata": {
  "kernelspec": {
   "display_name": "Python 3 (ipykernel)",
   "language": "python",
   "name": "python3"
  },
  "language_info": {
   "codemirror_mode": {
    "name": "ipython",
    "version": 3
   },
   "file_extension": ".py",
   "mimetype": "text/x-python",
   "name": "python",
   "nbconvert_exporter": "python",
   "pygments_lexer": "ipython3",
   "version": "3.11.7"
  },
  "widgets": {
   "application/vnd.jupyter.widget-state+json": {
    "state": {},
    "version_major": 2,
    "version_minor": 0
   }
  }
 },
 "nbformat": 4,
 "nbformat_minor": 5
}
