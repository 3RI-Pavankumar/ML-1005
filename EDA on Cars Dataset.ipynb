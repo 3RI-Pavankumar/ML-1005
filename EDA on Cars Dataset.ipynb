{
 "cells": [
  {
   "cell_type": "code",
   "execution_count": 1,
   "id": "19eb002f-d06f-4408-b3ca-233791262aec",
   "metadata": {},
   "outputs": [],
   "source": [
    "import pandas as pd\n",
    "import matplotlib.pyplot as plt\n",
    "import numpy as np\n",
    "import seaborn as sns\n",
    "import warnings\n",
    "warnings.filterwarnings(\"ignore\")"
   ]
  },
  {
   "cell_type": "code",
   "execution_count": 3,
   "id": "6dd34c6d-a263-44cb-ba2d-5445ae0ba376",
   "metadata": {},
   "outputs": [],
   "source": [
    "data = pd.read_csv(r\"C:\\Users\\Soft\\Desktop\\Py\\Docs\\Cars from 1970 - 2024\\CarsData.csv\")"
   ]
  },
  {
   "cell_type": "code",
   "execution_count": 7,
   "id": "5bb10a29-bb13-44d5-9de8-42c3760325d9",
   "metadata": {},
   "outputs": [],
   "source": [
    "df = data.copy()"
   ]
  },
  {
   "cell_type": "code",
   "execution_count": 8,
   "id": "7782cfe5-ca67-4f13-87e7-bea43dfbc798",
   "metadata": {},
   "outputs": [
    {
     "data": {
      "text/html": [
       "<div>\n",
       "<style scoped>\n",
       "    .dataframe tbody tr th:only-of-type {\n",
       "        vertical-align: middle;\n",
       "    }\n",
       "\n",
       "    .dataframe tbody tr th {\n",
       "        vertical-align: top;\n",
       "    }\n",
       "\n",
       "    .dataframe thead th {\n",
       "        text-align: right;\n",
       "    }\n",
       "</style>\n",
       "<table border=\"1\" class=\"dataframe\">\n",
       "  <thead>\n",
       "    <tr style=\"text-align: right;\">\n",
       "      <th></th>\n",
       "      <th>model</th>\n",
       "      <th>year</th>\n",
       "      <th>price</th>\n",
       "      <th>transmission</th>\n",
       "      <th>mileage</th>\n",
       "      <th>fuelType</th>\n",
       "      <th>tax</th>\n",
       "      <th>mpg</th>\n",
       "      <th>engineSize</th>\n",
       "      <th>Manufacturer</th>\n",
       "    </tr>\n",
       "  </thead>\n",
       "  <tbody>\n",
       "    <tr>\n",
       "      <th>0</th>\n",
       "      <td>I10</td>\n",
       "      <td>2017</td>\n",
       "      <td>7495</td>\n",
       "      <td>Manual</td>\n",
       "      <td>11630</td>\n",
       "      <td>Petrol</td>\n",
       "      <td>145</td>\n",
       "      <td>60.1</td>\n",
       "      <td>1.0</td>\n",
       "      <td>hyundi</td>\n",
       "    </tr>\n",
       "    <tr>\n",
       "      <th>1</th>\n",
       "      <td>Polo</td>\n",
       "      <td>2017</td>\n",
       "      <td>10989</td>\n",
       "      <td>Manual</td>\n",
       "      <td>9200</td>\n",
       "      <td>Petrol</td>\n",
       "      <td>145</td>\n",
       "      <td>58.9</td>\n",
       "      <td>1.0</td>\n",
       "      <td>volkswagen</td>\n",
       "    </tr>\n",
       "    <tr>\n",
       "      <th>2</th>\n",
       "      <td>2 Series</td>\n",
       "      <td>2019</td>\n",
       "      <td>27990</td>\n",
       "      <td>Semi-Auto</td>\n",
       "      <td>1614</td>\n",
       "      <td>Diesel</td>\n",
       "      <td>145</td>\n",
       "      <td>49.6</td>\n",
       "      <td>2.0</td>\n",
       "      <td>BMW</td>\n",
       "    </tr>\n",
       "    <tr>\n",
       "      <th>3</th>\n",
       "      <td>Yeti Outdoor</td>\n",
       "      <td>2017</td>\n",
       "      <td>12495</td>\n",
       "      <td>Manual</td>\n",
       "      <td>30960</td>\n",
       "      <td>Diesel</td>\n",
       "      <td>150</td>\n",
       "      <td>62.8</td>\n",
       "      <td>2.0</td>\n",
       "      <td>skoda</td>\n",
       "    </tr>\n",
       "    <tr>\n",
       "      <th>4</th>\n",
       "      <td>Fiesta</td>\n",
       "      <td>2017</td>\n",
       "      <td>7999</td>\n",
       "      <td>Manual</td>\n",
       "      <td>19353</td>\n",
       "      <td>Petrol</td>\n",
       "      <td>125</td>\n",
       "      <td>54.3</td>\n",
       "      <td>1.2</td>\n",
       "      <td>ford</td>\n",
       "    </tr>\n",
       "  </tbody>\n",
       "</table>\n",
       "</div>"
      ],
      "text/plain": [
       "           model  year  price transmission  mileage fuelType  tax   mpg  \\\n",
       "0            I10  2017   7495       Manual    11630   Petrol  145  60.1   \n",
       "1           Polo  2017  10989       Manual     9200   Petrol  145  58.9   \n",
       "2       2 Series  2019  27990    Semi-Auto     1614   Diesel  145  49.6   \n",
       "3   Yeti Outdoor  2017  12495       Manual    30960   Diesel  150  62.8   \n",
       "4         Fiesta  2017   7999       Manual    19353   Petrol  125  54.3   \n",
       "\n",
       "   engineSize Manufacturer  \n",
       "0         1.0       hyundi  \n",
       "1         1.0   volkswagen  \n",
       "2         2.0          BMW  \n",
       "3         2.0        skoda  \n",
       "4         1.2         ford  "
      ]
     },
     "execution_count": 8,
     "metadata": {},
     "output_type": "execute_result"
    }
   ],
   "source": [
    "df.head()"
   ]
  },
  {
   "cell_type": "code",
   "execution_count": 9,
   "id": "ea2c2939-18d9-473c-b6f9-755bec5bee9b",
   "metadata": {},
   "outputs": [
    {
     "name": "stdout",
     "output_type": "stream",
     "text": [
      "<class 'pandas.core.frame.DataFrame'>\n",
      "RangeIndex: 97712 entries, 0 to 97711\n",
      "Data columns (total 10 columns):\n",
      " #   Column        Non-Null Count  Dtype  \n",
      "---  ------        --------------  -----  \n",
      " 0   model         97712 non-null  object \n",
      " 1   year          97712 non-null  int64  \n",
      " 2   price         97712 non-null  int64  \n",
      " 3   transmission  97712 non-null  object \n",
      " 4   mileage       97712 non-null  int64  \n",
      " 5   fuelType      97712 non-null  object \n",
      " 6   tax           97712 non-null  int64  \n",
      " 7   mpg           97712 non-null  float64\n",
      " 8   engineSize    97712 non-null  float64\n",
      " 9   Manufacturer  97712 non-null  object \n",
      "dtypes: float64(2), int64(4), object(4)\n",
      "memory usage: 7.5+ MB\n"
     ]
    }
   ],
   "source": [
    "df.info()"
   ]
  },
  {
   "cell_type": "code",
   "execution_count": 18,
   "id": "27b1c23c-d04b-428f-a117-298ca6282c6b",
   "metadata": {},
   "outputs": [],
   "source": [
    "df[\"price\"] = np.round(df[\"price\"]*90.23, decimals=0)"
   ]
  },
  {
   "cell_type": "code",
   "execution_count": 20,
   "id": "aad9156a-ec3a-4e5f-8f17-41c28596521f",
   "metadata": {},
   "outputs": [],
   "source": [
    "df[\"price\"]=df[\"price\"].astype(\"int\")"
   ]
  },
  {
   "cell_type": "code",
   "execution_count": 21,
   "id": "9c6ab171-a663-460f-b249-ac379cfafcde",
   "metadata": {},
   "outputs": [
    {
     "data": {
      "text/html": [
       "<div>\n",
       "<style scoped>\n",
       "    .dataframe tbody tr th:only-of-type {\n",
       "        vertical-align: middle;\n",
       "    }\n",
       "\n",
       "    .dataframe tbody tr th {\n",
       "        vertical-align: top;\n",
       "    }\n",
       "\n",
       "    .dataframe thead th {\n",
       "        text-align: right;\n",
       "    }\n",
       "</style>\n",
       "<table border=\"1\" class=\"dataframe\">\n",
       "  <thead>\n",
       "    <tr style=\"text-align: right;\">\n",
       "      <th></th>\n",
       "      <th>model</th>\n",
       "      <th>year</th>\n",
       "      <th>price</th>\n",
       "      <th>transmission</th>\n",
       "      <th>mileage</th>\n",
       "      <th>fuelType</th>\n",
       "      <th>tax</th>\n",
       "      <th>mpg</th>\n",
       "      <th>engineSize</th>\n",
       "      <th>Manufacturer</th>\n",
       "    </tr>\n",
       "  </thead>\n",
       "  <tbody>\n",
       "    <tr>\n",
       "      <th>0</th>\n",
       "      <td>I10</td>\n",
       "      <td>2017</td>\n",
       "      <td>676274</td>\n",
       "      <td>Manual</td>\n",
       "      <td>11630</td>\n",
       "      <td>Petrol</td>\n",
       "      <td>145</td>\n",
       "      <td>60.1</td>\n",
       "      <td>1.0</td>\n",
       "      <td>hyundi</td>\n",
       "    </tr>\n",
       "    <tr>\n",
       "      <th>1</th>\n",
       "      <td>Polo</td>\n",
       "      <td>2017</td>\n",
       "      <td>991537</td>\n",
       "      <td>Manual</td>\n",
       "      <td>9200</td>\n",
       "      <td>Petrol</td>\n",
       "      <td>145</td>\n",
       "      <td>58.9</td>\n",
       "      <td>1.0</td>\n",
       "      <td>volkswagen</td>\n",
       "    </tr>\n",
       "    <tr>\n",
       "      <th>2</th>\n",
       "      <td>2 Series</td>\n",
       "      <td>2019</td>\n",
       "      <td>2525538</td>\n",
       "      <td>Semi-Auto</td>\n",
       "      <td>1614</td>\n",
       "      <td>Diesel</td>\n",
       "      <td>145</td>\n",
       "      <td>49.6</td>\n",
       "      <td>2.0</td>\n",
       "      <td>BMW</td>\n",
       "    </tr>\n",
       "    <tr>\n",
       "      <th>3</th>\n",
       "      <td>Yeti Outdoor</td>\n",
       "      <td>2017</td>\n",
       "      <td>1127424</td>\n",
       "      <td>Manual</td>\n",
       "      <td>30960</td>\n",
       "      <td>Diesel</td>\n",
       "      <td>150</td>\n",
       "      <td>62.8</td>\n",
       "      <td>2.0</td>\n",
       "      <td>skoda</td>\n",
       "    </tr>\n",
       "    <tr>\n",
       "      <th>4</th>\n",
       "      <td>Fiesta</td>\n",
       "      <td>2017</td>\n",
       "      <td>721750</td>\n",
       "      <td>Manual</td>\n",
       "      <td>19353</td>\n",
       "      <td>Petrol</td>\n",
       "      <td>125</td>\n",
       "      <td>54.3</td>\n",
       "      <td>1.2</td>\n",
       "      <td>ford</td>\n",
       "    </tr>\n",
       "  </tbody>\n",
       "</table>\n",
       "</div>"
      ],
      "text/plain": [
       "           model  year    price transmission  mileage fuelType  tax   mpg  \\\n",
       "0            I10  2017   676274       Manual    11630   Petrol  145  60.1   \n",
       "1           Polo  2017   991537       Manual     9200   Petrol  145  58.9   \n",
       "2       2 Series  2019  2525538    Semi-Auto     1614   Diesel  145  49.6   \n",
       "3   Yeti Outdoor  2017  1127424       Manual    30960   Diesel  150  62.8   \n",
       "4         Fiesta  2017   721750       Manual    19353   Petrol  125  54.3   \n",
       "\n",
       "   engineSize Manufacturer  \n",
       "0         1.0       hyundi  \n",
       "1         1.0   volkswagen  \n",
       "2         2.0          BMW  \n",
       "3         2.0        skoda  \n",
       "4         1.2         ford  "
      ]
     },
     "execution_count": 21,
     "metadata": {},
     "output_type": "execute_result"
    }
   ],
   "source": [
    "df.head()"
   ]
  },
  {
   "cell_type": "code",
   "execution_count": 26,
   "id": "b535f475-bbf0-4fa1-9879-e4a0967dcb93",
   "metadata": {},
   "outputs": [],
   "source": [
    "# miles to km = miles * 1.6093\n",
    "# gallon to liter = gallon * 3.78541\n",
    "\n",
    "# need to convert mpg to kmpl"
   ]
  },
  {
   "cell_type": "code",
   "execution_count": 31,
   "id": "3b46b9a3-20ee-40bb-b3d1-0152734b10b6",
   "metadata": {},
   "outputs": [],
   "source": [
    "df[\"kmpl\"]=np.round((df[\"mpg\"]*1.6093)/3.78541, decimals=2)"
   ]
  },
  {
   "cell_type": "code",
   "execution_count": 32,
   "id": "eaa21112-a438-4593-8b67-2fc69d7bc377",
   "metadata": {},
   "outputs": [],
   "source": [
    "df.drop(\"mpg\", axis=1, inplace=True)"
   ]
  },
  {
   "cell_type": "code",
   "execution_count": 34,
   "id": "091d0f7a-8dec-4b63-833e-d567244d613c",
   "metadata": {},
   "outputs": [],
   "source": [
    "df.drop(\"mileage\", axis=1, inplace=True)"
   ]
  },
  {
   "cell_type": "code",
   "execution_count": 35,
   "id": "0ba501f7-f0b3-4cb3-b39d-58f44886142b",
   "metadata": {},
   "outputs": [
    {
     "data": {
      "text/html": [
       "<div>\n",
       "<style scoped>\n",
       "    .dataframe tbody tr th:only-of-type {\n",
       "        vertical-align: middle;\n",
       "    }\n",
       "\n",
       "    .dataframe tbody tr th {\n",
       "        vertical-align: top;\n",
       "    }\n",
       "\n",
       "    .dataframe thead th {\n",
       "        text-align: right;\n",
       "    }\n",
       "</style>\n",
       "<table border=\"1\" class=\"dataframe\">\n",
       "  <thead>\n",
       "    <tr style=\"text-align: right;\">\n",
       "      <th></th>\n",
       "      <th>model</th>\n",
       "      <th>year</th>\n",
       "      <th>price</th>\n",
       "      <th>transmission</th>\n",
       "      <th>fuelType</th>\n",
       "      <th>tax</th>\n",
       "      <th>engineSize</th>\n",
       "      <th>Manufacturer</th>\n",
       "      <th>kmpl</th>\n",
       "    </tr>\n",
       "  </thead>\n",
       "  <tbody>\n",
       "    <tr>\n",
       "      <th>0</th>\n",
       "      <td>I10</td>\n",
       "      <td>2017</td>\n",
       "      <td>676274</td>\n",
       "      <td>Manual</td>\n",
       "      <td>Petrol</td>\n",
       "      <td>145</td>\n",
       "      <td>1.0</td>\n",
       "      <td>hyundi</td>\n",
       "      <td>25.55</td>\n",
       "    </tr>\n",
       "    <tr>\n",
       "      <th>1</th>\n",
       "      <td>Polo</td>\n",
       "      <td>2017</td>\n",
       "      <td>991537</td>\n",
       "      <td>Manual</td>\n",
       "      <td>Petrol</td>\n",
       "      <td>145</td>\n",
       "      <td>1.0</td>\n",
       "      <td>volkswagen</td>\n",
       "      <td>25.04</td>\n",
       "    </tr>\n",
       "    <tr>\n",
       "      <th>2</th>\n",
       "      <td>2 Series</td>\n",
       "      <td>2019</td>\n",
       "      <td>2525538</td>\n",
       "      <td>Semi-Auto</td>\n",
       "      <td>Diesel</td>\n",
       "      <td>145</td>\n",
       "      <td>2.0</td>\n",
       "      <td>BMW</td>\n",
       "      <td>21.09</td>\n",
       "    </tr>\n",
       "    <tr>\n",
       "      <th>3</th>\n",
       "      <td>Yeti Outdoor</td>\n",
       "      <td>2017</td>\n",
       "      <td>1127424</td>\n",
       "      <td>Manual</td>\n",
       "      <td>Diesel</td>\n",
       "      <td>150</td>\n",
       "      <td>2.0</td>\n",
       "      <td>skoda</td>\n",
       "      <td>26.70</td>\n",
       "    </tr>\n",
       "    <tr>\n",
       "      <th>4</th>\n",
       "      <td>Fiesta</td>\n",
       "      <td>2017</td>\n",
       "      <td>721750</td>\n",
       "      <td>Manual</td>\n",
       "      <td>Petrol</td>\n",
       "      <td>125</td>\n",
       "      <td>1.2</td>\n",
       "      <td>ford</td>\n",
       "      <td>23.08</td>\n",
       "    </tr>\n",
       "  </tbody>\n",
       "</table>\n",
       "</div>"
      ],
      "text/plain": [
       "           model  year    price transmission fuelType  tax  engineSize  \\\n",
       "0            I10  2017   676274       Manual   Petrol  145         1.0   \n",
       "1           Polo  2017   991537       Manual   Petrol  145         1.0   \n",
       "2       2 Series  2019  2525538    Semi-Auto   Diesel  145         2.0   \n",
       "3   Yeti Outdoor  2017  1127424       Manual   Diesel  150         2.0   \n",
       "4         Fiesta  2017   721750       Manual   Petrol  125         1.2   \n",
       "\n",
       "  Manufacturer   kmpl  \n",
       "0       hyundi  25.55  \n",
       "1   volkswagen  25.04  \n",
       "2          BMW  21.09  \n",
       "3        skoda  26.70  \n",
       "4         ford  23.08  "
      ]
     },
     "execution_count": 35,
     "metadata": {},
     "output_type": "execute_result"
    }
   ],
   "source": [
    "df.head()"
   ]
  },
  {
   "cell_type": "code",
   "execution_count": 36,
   "id": "5ad3676c-1b8e-4cdd-9c48-4066926f1062",
   "metadata": {
    "scrolled": true
   },
   "outputs": [
    {
     "data": {
      "text/plain": [
       "model\n",
       " Fiesta     6509\n",
       " Golf       4797\n",
       " Focus      4555\n",
       " C Class    3694\n",
       " Corsa      3285\n",
       "            ... \n",
       "E Class        1\n",
       "200            1\n",
       " Ranger        1\n",
       "180            1\n",
       "220            1\n",
       "Name: count, Length: 196, dtype: int64"
      ]
     },
     "execution_count": 36,
     "metadata": {},
     "output_type": "execute_result"
    }
   ],
   "source": [
    "df[\"model\"].value_counts()"
   ]
  },
  {
   "cell_type": "code",
   "execution_count": 37,
   "id": "360b433b-bfd8-4941-959b-ae9cd778bb7e",
   "metadata": {},
   "outputs": [
    {
     "data": {
      "text/plain": [
       "Manufacturer\n",
       "ford          17811\n",
       "volkswagen    14893\n",
       "vauxhall      13258\n",
       "merc          12860\n",
       "BMW           10664\n",
       "Audi          10565\n",
       "toyota         6699\n",
       "skoda          6188\n",
       "hyundi         4774\n",
       "Name: count, dtype: int64"
      ]
     },
     "execution_count": 37,
     "metadata": {},
     "output_type": "execute_result"
    }
   ],
   "source": [
    "df[\"Manufacturer\"].value_counts()"
   ]
  },
  {
   "cell_type": "code",
   "execution_count": 38,
   "id": "7159a74e-519d-4690-abde-73774916afb7",
   "metadata": {
    "scrolled": true
   },
   "outputs": [
    {
     "data": {
      "text/html": [
       "<div>\n",
       "<style scoped>\n",
       "    .dataframe tbody tr th:only-of-type {\n",
       "        vertical-align: middle;\n",
       "    }\n",
       "\n",
       "    .dataframe tbody tr th {\n",
       "        vertical-align: top;\n",
       "    }\n",
       "\n",
       "    .dataframe thead th {\n",
       "        text-align: right;\n",
       "    }\n",
       "</style>\n",
       "<table border=\"1\" class=\"dataframe\">\n",
       "  <thead>\n",
       "    <tr style=\"text-align: right;\">\n",
       "      <th></th>\n",
       "      <th>model</th>\n",
       "      <th>year</th>\n",
       "      <th>price</th>\n",
       "      <th>transmission</th>\n",
       "      <th>fuelType</th>\n",
       "      <th>tax</th>\n",
       "      <th>engineSize</th>\n",
       "      <th>Manufacturer</th>\n",
       "      <th>kmpl</th>\n",
       "    </tr>\n",
       "  </thead>\n",
       "  <tbody>\n",
       "    <tr>\n",
       "      <th>9</th>\n",
       "      <td>A Class</td>\n",
       "      <td>2017</td>\n",
       "      <td>1578845</td>\n",
       "      <td>Manual</td>\n",
       "      <td>Diesel</td>\n",
       "      <td>30</td>\n",
       "      <td>2.1</td>\n",
       "      <td>merc</td>\n",
       "      <td>26.70</td>\n",
       "    </tr>\n",
       "    <tr>\n",
       "      <th>17</th>\n",
       "      <td>GLA Class</td>\n",
       "      <td>2016</td>\n",
       "      <td>1407588</td>\n",
       "      <td>Automatic</td>\n",
       "      <td>Diesel</td>\n",
       "      <td>30</td>\n",
       "      <td>2.1</td>\n",
       "      <td>merc</td>\n",
       "      <td>27.29</td>\n",
       "    </tr>\n",
       "    <tr>\n",
       "      <th>32</th>\n",
       "      <td>C Class</td>\n",
       "      <td>2015</td>\n",
       "      <td>1509728</td>\n",
       "      <td>Automatic</td>\n",
       "      <td>Diesel</td>\n",
       "      <td>30</td>\n",
       "      <td>2.1</td>\n",
       "      <td>merc</td>\n",
       "      <td>27.29</td>\n",
       "    </tr>\n",
       "    <tr>\n",
       "      <th>49</th>\n",
       "      <td>C Class</td>\n",
       "      <td>2019</td>\n",
       "      <td>2606474</td>\n",
       "      <td>Automatic</td>\n",
       "      <td>Diesel</td>\n",
       "      <td>145</td>\n",
       "      <td>2.0</td>\n",
       "      <td>merc</td>\n",
       "      <td>24.53</td>\n",
       "    </tr>\n",
       "    <tr>\n",
       "      <th>50</th>\n",
       "      <td>GLC Class</td>\n",
       "      <td>2018</td>\n",
       "      <td>1881296</td>\n",
       "      <td>Automatic</td>\n",
       "      <td>Diesel</td>\n",
       "      <td>150</td>\n",
       "      <td>2.1</td>\n",
       "      <td>merc</td>\n",
       "      <td>24.02</td>\n",
       "    </tr>\n",
       "    <tr>\n",
       "      <th>...</th>\n",
       "      <td>...</td>\n",
       "      <td>...</td>\n",
       "      <td>...</td>\n",
       "      <td>...</td>\n",
       "      <td>...</td>\n",
       "      <td>...</td>\n",
       "      <td>...</td>\n",
       "      <td>...</td>\n",
       "      <td>...</td>\n",
       "    </tr>\n",
       "    <tr>\n",
       "      <th>97654</th>\n",
       "      <td>C Class</td>\n",
       "      <td>2017</td>\n",
       "      <td>1775726</td>\n",
       "      <td>Semi-Auto</td>\n",
       "      <td>Diesel</td>\n",
       "      <td>30</td>\n",
       "      <td>2.1</td>\n",
       "      <td>merc</td>\n",
       "      <td>27.29</td>\n",
       "    </tr>\n",
       "    <tr>\n",
       "      <th>97655</th>\n",
       "      <td>CLA Class</td>\n",
       "      <td>2016</td>\n",
       "      <td>1244723</td>\n",
       "      <td>Automatic</td>\n",
       "      <td>Diesel</td>\n",
       "      <td>20</td>\n",
       "      <td>2.1</td>\n",
       "      <td>merc</td>\n",
       "      <td>28.61</td>\n",
       "    </tr>\n",
       "    <tr>\n",
       "      <th>97666</th>\n",
       "      <td>A Class</td>\n",
       "      <td>2016</td>\n",
       "      <td>1316456</td>\n",
       "      <td>Manual</td>\n",
       "      <td>Diesel</td>\n",
       "      <td>20</td>\n",
       "      <td>1.5</td>\n",
       "      <td>merc</td>\n",
       "      <td>30.78</td>\n",
       "    </tr>\n",
       "    <tr>\n",
       "      <th>97668</th>\n",
       "      <td>CL Class</td>\n",
       "      <td>2017</td>\n",
       "      <td>1710400</td>\n",
       "      <td>Semi-Auto</td>\n",
       "      <td>Diesel</td>\n",
       "      <td>20</td>\n",
       "      <td>2.1</td>\n",
       "      <td>merc</td>\n",
       "      <td>28.61</td>\n",
       "    </tr>\n",
       "    <tr>\n",
       "      <th>97669</th>\n",
       "      <td>C Class</td>\n",
       "      <td>2015</td>\n",
       "      <td>1326201</td>\n",
       "      <td>Semi-Auto</td>\n",
       "      <td>Petrol</td>\n",
       "      <td>125</td>\n",
       "      <td>2.0</td>\n",
       "      <td>merc</td>\n",
       "      <td>22.23</td>\n",
       "    </tr>\n",
       "  </tbody>\n",
       "</table>\n",
       "<p>12860 rows × 9 columns</p>\n",
       "</div>"
      ],
      "text/plain": [
       "            model  year    price transmission fuelType  tax  engineSize  \\\n",
       "9         A Class  2017  1578845       Manual   Diesel   30         2.1   \n",
       "17      GLA Class  2016  1407588    Automatic   Diesel   30         2.1   \n",
       "32        C Class  2015  1509728    Automatic   Diesel   30         2.1   \n",
       "49        C Class  2019  2606474    Automatic   Diesel  145         2.0   \n",
       "50      GLC Class  2018  1881296    Automatic   Diesel  150         2.1   \n",
       "...           ...   ...      ...          ...      ...  ...         ...   \n",
       "97654     C Class  2017  1775726    Semi-Auto   Diesel   30         2.1   \n",
       "97655   CLA Class  2016  1244723    Automatic   Diesel   20         2.1   \n",
       "97666     A Class  2016  1316456       Manual   Diesel   20         1.5   \n",
       "97668    CL Class  2017  1710400    Semi-Auto   Diesel   20         2.1   \n",
       "97669     C Class  2015  1326201    Semi-Auto   Petrol  125         2.0   \n",
       "\n",
       "      Manufacturer   kmpl  \n",
       "9             merc  26.70  \n",
       "17            merc  27.29  \n",
       "32            merc  27.29  \n",
       "49            merc  24.53  \n",
       "50            merc  24.02  \n",
       "...            ...    ...  \n",
       "97654         merc  27.29  \n",
       "97655         merc  28.61  \n",
       "97666         merc  30.78  \n",
       "97668         merc  28.61  \n",
       "97669         merc  22.23  \n",
       "\n",
       "[12860 rows x 9 columns]"
      ]
     },
     "execution_count": 38,
     "metadata": {},
     "output_type": "execute_result"
    }
   ],
   "source": [
    "df[df[\"Manufacturer\"]==\"merc\"]"
   ]
  },
  {
   "cell_type": "code",
   "execution_count": 39,
   "id": "07027e84-a246-4375-81dc-7ae806dc88cd",
   "metadata": {},
   "outputs": [
    {
     "data": {
      "text/plain": [
       "fuelType\n",
       "Petrol      53982\n",
       "Diesel      40419\n",
       "Hybrid       3059\n",
       "Other         246\n",
       "Electric        6\n",
       "Name: count, dtype: int64"
      ]
     },
     "execution_count": 39,
     "metadata": {},
     "output_type": "execute_result"
    }
   ],
   "source": [
    "df[\"fuelType\"].value_counts()"
   ]
  },
  {
   "cell_type": "code",
   "execution_count": 40,
   "id": "750d0464-f0c6-40d6-8c28-7f215de610d2",
   "metadata": {},
   "outputs": [
    {
     "data": {
      "text/plain": [
       "transmission\n",
       "Manual       55502\n",
       "Semi-Auto    22296\n",
       "Automatic    19905\n",
       "Other            9\n",
       "Name: count, dtype: int64"
      ]
     },
     "execution_count": 40,
     "metadata": {},
     "output_type": "execute_result"
    }
   ],
   "source": [
    "df[\"transmission\"].value_counts()"
   ]
  },
  {
   "cell_type": "code",
   "execution_count": 43,
   "id": "8282b613-0302-4962-b75d-b61536dbb450",
   "metadata": {},
   "outputs": [],
   "source": [
    "df = df[df[\"transmission\"]!=\"Other\"]"
   ]
  },
  {
   "cell_type": "code",
   "execution_count": 44,
   "id": "8fc48f38-8cac-4adc-8b96-d5235c232579",
   "metadata": {},
   "outputs": [],
   "source": [
    "df = df[df[\"fuelType\"]!=\"Other\"]"
   ]
  },
  {
   "cell_type": "code",
   "execution_count": 45,
   "id": "7f8999d7-bc6e-437c-bcef-248d2286e7a8",
   "metadata": {},
   "outputs": [
    {
     "data": {
      "text/plain": [
       "fuelType\n",
       "Petrol      53978\n",
       "Diesel      40417\n",
       "Hybrid       3057\n",
       "Electric        6\n",
       "Name: count, dtype: int64"
      ]
     },
     "execution_count": 45,
     "metadata": {},
     "output_type": "execute_result"
    }
   ],
   "source": [
    "df[\"fuelType\"].value_counts()"
   ]
  },
  {
   "cell_type": "code",
   "execution_count": 46,
   "id": "8d49fbb7-a747-4197-a535-8e1d3e1c6e75",
   "metadata": {},
   "outputs": [
    {
     "data": {
      "text/plain": [
       "transmission\n",
       "Manual       55470\n",
       "Semi-Auto    22295\n",
       "Automatic    19693\n",
       "Name: count, dtype: int64"
      ]
     },
     "execution_count": 46,
     "metadata": {},
     "output_type": "execute_result"
    }
   ],
   "source": [
    "df[\"transmission\"].value_counts()"
   ]
  },
  {
   "cell_type": "code",
   "execution_count": 48,
   "id": "627b28c6-036b-449a-be0e-b41e5e42a0a2",
   "metadata": {},
   "outputs": [
    {
     "data": {
      "text/plain": [
       "year\n",
       "2019    26088\n",
       "2017    21537\n",
       "2016    15680\n",
       "2018    13555\n",
       "2015     7570\n",
       "2014     4049\n",
       "2020     4025\n",
       "2013     2589\n",
       "2012      633\n",
       "2011      430\n",
       "Name: count, dtype: int64"
      ]
     },
     "execution_count": 48,
     "metadata": {},
     "output_type": "execute_result"
    }
   ],
   "source": [
    "df[\"year\"].value_counts().head(10)"
   ]
  },
  {
   "cell_type": "code",
   "execution_count": 50,
   "id": "52c34275-4370-443e-bd9b-6d494c92e6a4",
   "metadata": {},
   "outputs": [],
   "source": [
    "df = df[(df[\"year\"]>2010)&(df[\"year\"]<2021)]"
   ]
  },
  {
   "cell_type": "code",
   "execution_count": 56,
   "id": "82095289-120a-4807-b97c-9dbeba4ba722",
   "metadata": {},
   "outputs": [],
   "source": [
    "df.reset_index(drop=True, inplace=True)"
   ]
  },
  {
   "cell_type": "code",
   "execution_count": 57,
   "id": "76fb6657-eb09-4528-825b-2eb773e3949d",
   "metadata": {},
   "outputs": [
    {
     "name": "stdout",
     "output_type": "stream",
     "text": [
      "<class 'pandas.core.frame.DataFrame'>\n",
      "RangeIndex: 96156 entries, 0 to 96155\n",
      "Data columns (total 9 columns):\n",
      " #   Column        Non-Null Count  Dtype  \n",
      "---  ------        --------------  -----  \n",
      " 0   model         96156 non-null  object \n",
      " 1   year          96156 non-null  int64  \n",
      " 2   price         96156 non-null  int32  \n",
      " 3   transmission  96156 non-null  object \n",
      " 4   fuelType      96156 non-null  object \n",
      " 5   tax           96156 non-null  int64  \n",
      " 6   engineSize    96156 non-null  float64\n",
      " 7   Manufacturer  96156 non-null  object \n",
      " 8   kmpl          96156 non-null  float64\n",
      "dtypes: float64(2), int32(1), int64(2), object(4)\n",
      "memory usage: 6.2+ MB\n"
     ]
    }
   ],
   "source": [
    "df.info()"
   ]
  },
  {
   "cell_type": "code",
   "execution_count": 59,
   "id": "1f408ee9-eb7b-48ef-a646-a17b2c652a8a",
   "metadata": {},
   "outputs": [
    {
     "data": {
      "text/html": [
       "<div>\n",
       "<style scoped>\n",
       "    .dataframe tbody tr th:only-of-type {\n",
       "        vertical-align: middle;\n",
       "    }\n",
       "\n",
       "    .dataframe tbody tr th {\n",
       "        vertical-align: top;\n",
       "    }\n",
       "\n",
       "    .dataframe thead th {\n",
       "        text-align: right;\n",
       "    }\n",
       "</style>\n",
       "<table border=\"1\" class=\"dataframe\">\n",
       "  <thead>\n",
       "    <tr style=\"text-align: right;\">\n",
       "      <th></th>\n",
       "      <th>model</th>\n",
       "      <th>year</th>\n",
       "      <th>price</th>\n",
       "      <th>transmission</th>\n",
       "      <th>fuelType</th>\n",
       "      <th>tax</th>\n",
       "      <th>engineSize</th>\n",
       "      <th>Manufacturer</th>\n",
       "      <th>kmpl</th>\n",
       "    </tr>\n",
       "  </thead>\n",
       "  <tbody>\n",
       "    <tr>\n",
       "      <th>0</th>\n",
       "      <td>I10</td>\n",
       "      <td>2017</td>\n",
       "      <td>676274</td>\n",
       "      <td>Manual</td>\n",
       "      <td>Petrol</td>\n",
       "      <td>145</td>\n",
       "      <td>1.0</td>\n",
       "      <td>hyundi</td>\n",
       "      <td>25.55</td>\n",
       "    </tr>\n",
       "    <tr>\n",
       "      <th>1</th>\n",
       "      <td>Polo</td>\n",
       "      <td>2017</td>\n",
       "      <td>991537</td>\n",
       "      <td>Manual</td>\n",
       "      <td>Petrol</td>\n",
       "      <td>145</td>\n",
       "      <td>1.0</td>\n",
       "      <td>volkswagen</td>\n",
       "      <td>25.04</td>\n",
       "    </tr>\n",
       "    <tr>\n",
       "      <th>2</th>\n",
       "      <td>2 Series</td>\n",
       "      <td>2019</td>\n",
       "      <td>2525538</td>\n",
       "      <td>Semi-Auto</td>\n",
       "      <td>Diesel</td>\n",
       "      <td>145</td>\n",
       "      <td>2.0</td>\n",
       "      <td>BMW</td>\n",
       "      <td>21.09</td>\n",
       "    </tr>\n",
       "    <tr>\n",
       "      <th>3</th>\n",
       "      <td>Yeti Outdoor</td>\n",
       "      <td>2017</td>\n",
       "      <td>1127424</td>\n",
       "      <td>Manual</td>\n",
       "      <td>Diesel</td>\n",
       "      <td>150</td>\n",
       "      <td>2.0</td>\n",
       "      <td>skoda</td>\n",
       "      <td>26.70</td>\n",
       "    </tr>\n",
       "    <tr>\n",
       "      <th>4</th>\n",
       "      <td>Fiesta</td>\n",
       "      <td>2017</td>\n",
       "      <td>721750</td>\n",
       "      <td>Manual</td>\n",
       "      <td>Petrol</td>\n",
       "      <td>125</td>\n",
       "      <td>1.2</td>\n",
       "      <td>ford</td>\n",
       "      <td>23.08</td>\n",
       "    </tr>\n",
       "  </tbody>\n",
       "</table>\n",
       "</div>"
      ],
      "text/plain": [
       "           model  year    price transmission fuelType  tax  engineSize  \\\n",
       "0            I10  2017   676274       Manual   Petrol  145         1.0   \n",
       "1           Polo  2017   991537       Manual   Petrol  145         1.0   \n",
       "2       2 Series  2019  2525538    Semi-Auto   Diesel  145         2.0   \n",
       "3   Yeti Outdoor  2017  1127424       Manual   Diesel  150         2.0   \n",
       "4         Fiesta  2017   721750       Manual   Petrol  125         1.2   \n",
       "\n",
       "  Manufacturer   kmpl  \n",
       "0       hyundi  25.55  \n",
       "1   volkswagen  25.04  \n",
       "2          BMW  21.09  \n",
       "3        skoda  26.70  \n",
       "4         ford  23.08  "
      ]
     },
     "execution_count": 59,
     "metadata": {},
     "output_type": "execute_result"
    }
   ],
   "source": [
    "df.head()"
   ]
  },
  {
   "cell_type": "code",
   "execution_count": 72,
   "id": "b0af9f83-d73b-43cc-a91f-b7c701ebda2b",
   "metadata": {},
   "outputs": [
    {
     "data": {
      "text/plain": [
       "model\n",
       "R8            9221923.0\n",
       "G Class       8926833.0\n",
       "X7            6301913.0\n",
       "8 Series      5774521.0\n",
       "Q8            5424178.0\n",
       "i8            5251493.0\n",
       "M5            5211685.0\n",
       "California    5196695.0\n",
       "RS6           5049620.0\n",
       "RS4           4621884.0\n",
       "Name: price, dtype: float64"
      ]
     },
     "execution_count": 72,
     "metadata": {},
     "output_type": "execute_result"
    }
   ],
   "source": [
    "np.round(df.groupby(\"model\")[\"price\"].mean().sort_values(ascending=False).head(10))"
   ]
  },
  {
   "cell_type": "markdown",
   "id": "ba599750-f297-4d2c-a57f-26feb9c1aacd",
   "metadata": {},
   "source": [
    "In used cars the top 10 expensive cars are \n",
    "R8            ,\r\n",
    "G Class      ,0\r\n",
    "X7          ,.0\r\n",
    "8 Series   ,1.0\r\n",
    "Q8        ,78.0\r\n",
    "i8       ,493.0\r\n",
    "M5      ,1685.0\r\n",
    "Califor,96695.0\r\n",
    "RS6   ,049620.0\r\n",
    "RS4  .4621884.0"
   ]
  },
  {
   "cell_type": "code",
   "execution_count": 76,
   "id": "21db15e8-6d6f-4730-8529-5d4817513831",
   "metadata": {},
   "outputs": [
    {
     "data": {
      "text/plain": [
       "<Axes: title={'center': 'Most expensive cars'}, xlabel='model', ylabel='price'>"
      ]
     },
     "execution_count": 76,
     "metadata": {},
     "output_type": "execute_result"
    },
    {
     "data": {
      "image/png": "[encoded data removed]",
      "text/plain": [
       "<Figure size 1200x500 with 1 Axes>"
      ]
     },
     "metadata": {},
     "output_type": "display_data"
    }
   ],
   "source": [
    "plt.figure(figsize=(12, 5))\n",
    "plt.title(\"Most expensive cars\")\n",
    "sns.barplot(np.round(df.groupby(\"model\")[\"price\"].mean().sort_values(ascending=False).head(10)))"
   ]
  },
  {
   "cell_type": "code",
   "execution_count": 75,
   "id": "9c9bdf81-2cee-4c3c-9549-15feddd1d53a",
   "metadata": {},
   "outputs": [
    {
     "data": {
      "text/plain": [
       "<Axes: title={'center': 'Most cheaper cars'}, xlabel='model', ylabel='price'>"
      ]
     },
     "execution_count": 75,
     "metadata": {},
     "output_type": "execute_result"
    },
    {
     "data": {
      "image/png": "[encoded data removed]",
      "text/plain": [
       "<Figure size 1200x500 with 1 Axes>"
      ]
     },
     "metadata": {},
     "output_type": "display_data"
    }
   ],
   "source": [
    "plt.figure(figsize=(12, 5))\n",
    "plt.title(\"Most cheaper cars\")\n",
    "sns.barplot(np.round(df.groupby(\"model\")[\"price\"].mean().sort_values().head(10)))"
   ]
  },
  {
   "cell_type": "code",
   "execution_count": 77,
   "id": "ddc82425-393a-4d3b-9aaf-f3d60f69a994",
   "metadata": {},
   "outputs": [
    {
     "data": {
      "text/plain": [
       "model\n",
       " i3        200.150000\n",
       " Ampera    100.080000\n",
       " i8         58.426875\n",
       " Prius      40.749752\n",
       " Ioniq      33.061245\n",
       "E Class     30.780000\n",
       "180         30.780000\n",
       " Auris      29.503233\n",
       " Jetta      28.283667\n",
       " C-HR       28.123242\n",
       "Name: kmpl, dtype: float64"
      ]
     },
     "execution_count": 77,
     "metadata": {},
     "output_type": "execute_result"
    }
   ],
   "source": [
    "df.groupby(\"model\")[\"kmpl\"].mean().sort_values(ascending=False).head(10)"
   ]
  },
  {
   "cell_type": "code",
   "execution_count": 84,
   "id": "3b309fb9-b81c-4b1c-8441-fe18ce7f5630",
   "metadata": {},
   "outputs": [
    {
     "data": {
      "text/plain": [
       "model      fuelType\n",
       "i3         Electric    200.150000\n",
       "           Hybrid      200.150000\n",
       "Ampera     Hybrid      100.080000\n",
       "           Electric    100.080000\n",
       "Kuga       Hybrid       85.790000\n",
       "                          ...    \n",
       "GLS Class  Petrol        9.780000\n",
       "G Class    Petrol        9.776000\n",
       "R8         Petrol        9.572308\n",
       "X3         Hybrid        2.340000\n",
       "A Class    Hybrid        0.470000\n",
       "Name: kmpl, Length: 329, dtype: float64"
      ]
     },
     "execution_count": 84,
     "metadata": {},
     "output_type": "execute_result"
    }
   ],
   "source": [
    "df.groupby([\"model\", \"fuelType\"])[\"kmpl\"].mean().sort_values(ascending=False)"
   ]
  },
  {
   "cell_type": "code",
   "execution_count": 88,
   "id": "a24e7799-fd36-4a83-aba1-665816c2c5b6",
   "metadata": {},
   "outputs": [],
   "source": [
    "model_fuel_kmpl = pd.pivot_table(df, index=\"model\", columns=\"fuelType\", \n",
    "                                 values=\"kmpl\", fill_value=0)"
   ]
  },
  {
   "cell_type": "code",
   "execution_count": 94,
   "id": "70ec45de-52f4-4042-b189-328c0bed6279",
   "metadata": {},
   "outputs": [
    {
     "data": {
      "text/html": [
       "<div>\n",
       "<style scoped>\n",
       "    .dataframe tbody tr th:only-of-type {\n",
       "        vertical-align: middle;\n",
       "    }\n",
       "\n",
       "    .dataframe tbody tr th {\n",
       "        vertical-align: top;\n",
       "    }\n",
       "\n",
       "    .dataframe thead th {\n",
       "        text-align: right;\n",
       "    }\n",
       "</style>\n",
       "<table border=\"1\" class=\"dataframe\">\n",
       "  <thead>\n",
       "    <tr style=\"text-align: right;\">\n",
       "      <th>fuelType</th>\n",
       "      <th>Diesel</th>\n",
       "      <th>Electric</th>\n",
       "      <th>Hybrid</th>\n",
       "      <th>Petrol</th>\n",
       "    </tr>\n",
       "    <tr>\n",
       "      <th>model</th>\n",
       "      <th></th>\n",
       "      <th></th>\n",
       "      <th></th>\n",
       "      <th></th>\n",
       "    </tr>\n",
       "  </thead>\n",
       "  <tbody>\n",
       "    <tr>\n",
       "      <th>1 Series</th>\n",
       "      <td>28.671552</td>\n",
       "      <td>0.0</td>\n",
       "      <td>0.000000</td>\n",
       "      <td>19.247648</td>\n",
       "    </tr>\n",
       "    <tr>\n",
       "      <th>2 Series</th>\n",
       "      <td>25.958933</td>\n",
       "      <td>0.0</td>\n",
       "      <td>57.936944</td>\n",
       "      <td>19.766959</td>\n",
       "    </tr>\n",
       "    <tr>\n",
       "      <th>3 Series</th>\n",
       "      <td>24.707542</td>\n",
       "      <td>0.0</td>\n",
       "      <td>53.471209</td>\n",
       "      <td>19.083473</td>\n",
       "    </tr>\n",
       "    <tr>\n",
       "      <th>4 Series</th>\n",
       "      <td>25.555672</td>\n",
       "      <td>0.0</td>\n",
       "      <td>0.000000</td>\n",
       "      <td>19.302621</td>\n",
       "    </tr>\n",
       "    <tr>\n",
       "      <th>5 Series</th>\n",
       "      <td>25.567977</td>\n",
       "      <td>0.0</td>\n",
       "      <td>46.258778</td>\n",
       "      <td>19.675306</td>\n",
       "    </tr>\n",
       "  </tbody>\n",
       "</table>\n",
       "</div>"
      ],
      "text/plain": [
       "fuelType     Diesel  Electric     Hybrid     Petrol\n",
       "model                                              \n",
       "1 Series  28.671552       0.0   0.000000  19.247648\n",
       "2 Series  25.958933       0.0  57.936944  19.766959\n",
       "3 Series  24.707542       0.0  53.471209  19.083473\n",
       "4 Series  25.555672       0.0   0.000000  19.302621\n",
       "5 Series  25.567977       0.0  46.258778  19.675306"
      ]
     },
     "execution_count": 94,
     "metadata": {},
     "output_type": "execute_result"
    }
   ],
   "source": [
    "model_fuel_kmpl.head()"
   ]
  },
  {
   "cell_type": "code",
   "execution_count": 93,
   "id": "2adc0cc6-d241-45e8-9dbe-254373e79004",
   "metadata": {},
   "outputs": [
    {
     "data": {
      "text/plain": [
       "model\n",
       " Fiesta    33.334441\n",
       " Corsa     33.242297\n",
       " Yaris     32.667619\n",
       " A1        32.567558\n",
       " Fabia     31.637333\n",
       " I30       31.418802\n",
       "E Class    30.780000\n",
       "180        30.780000\n",
       " B-MAX     30.673766\n",
       " Astra     30.309811\n",
       "Name: Diesel, dtype: float64"
      ]
     },
     "execution_count": 93,
     "metadata": {},
     "output_type": "execute_result"
    }
   ],
   "source": [
    "model_fuel_kmpl.sort_values(\"Diesel\", ascending=False)[\"Diesel\"].head(10)"
   ]
  },
  {
   "cell_type": "code",
   "execution_count": 96,
   "id": "398f3ea6-1613-4f08-8c8a-4e321c00e9af",
   "metadata": {},
   "outputs": [
    {
     "data": {
      "text/plain": [
       "model\n",
       "Ioniq     33.370000\n",
       "Aygo      27.747886\n",
       "Citigo    27.557318\n",
       "Up        25.719241\n",
       "IQ        25.548000\n",
       "Fiesta    25.532424\n",
       "Fabia     25.201746\n",
       "Rapid     24.635283\n",
       "Viva      24.569664\n",
       "I10       24.525809\n",
       "Name: Petrol, dtype: float64"
      ]
     },
     "execution_count": 96,
     "metadata": {},
     "output_type": "execute_result"
    }
   ],
   "source": [
    "model_fuel_kmpl.sort_values(\"Petrol\", ascending=False)[\"Petrol\"].head(10)"
   ]
  },
  {
   "cell_type": "code",
   "execution_count": 97,
   "id": "5b80b167-9abf-479f-ac31-9a3928a3c623",
   "metadata": {},
   "outputs": [
    {
     "data": {
      "text/plain": [
       "model\n",
       "i3          200.150000\n",
       "Ampera      100.080000\n",
       "Kuga         85.790000\n",
       "Superb       81.092222\n",
       "A3           74.735333\n",
       "E Class      70.660968\n",
       "Q7           66.700000\n",
       "i8           58.426875\n",
       "Golf         58.122588\n",
       "2 Series     57.936944\n",
       "Name: Hybrid, dtype: float64"
      ]
     },
     "execution_count": 97,
     "metadata": {},
     "output_type": "execute_result"
    }
   ],
   "source": [
    "model_fuel_kmpl.sort_values(\"Hybrid\", ascending=False)[\"Hybrid\"].head(10)"
   ]
  },
  {
   "cell_type": "code",
   "execution_count": 98,
   "id": "797d464e-f98a-4178-8e73-d78b238e5eb4",
   "metadata": {},
   "outputs": [
    {
     "data": {
      "text/plain": [
       "model\n",
       "i3          200.15\n",
       "Ampera      100.08\n",
       "Mondeo       28.61\n",
       "1 Series      0.00\n",
       "Roomster      0.00\n",
       "RAV4          0.00\n",
       "RS3           0.00\n",
       "RS4           0.00\n",
       "RS5           0.00\n",
       "RS6           0.00\n",
       "Name: Electric, dtype: float64"
      ]
     },
     "execution_count": 98,
     "metadata": {},
     "output_type": "execute_result"
    }
   ],
   "source": [
    "model_fuel_kmpl.sort_values(\"Electric\", ascending=False)[\"Electric\"].head(10)"
   ]
  },
  {
   "cell_type": "code",
   "execution_count": 101,
   "id": "6376d79f-f0f9-4eb6-b7bc-172858908cf3",
   "metadata": {},
   "outputs": [
    {
     "data": {
      "text/plain": [
       "model\n",
       "R8            9.572308\n",
       "G Class       9.776000\n",
       "GLS Class     9.780000\n",
       "M Class      10.160000\n",
       "Mustang      10.319825\n",
       "X7           10.540000\n",
       "Touareg      10.907143\n",
       "M5           11.135172\n",
       "X6           11.214211\n",
       "Q8           11.220000\n",
       "Name: Petrol, dtype: float64"
      ]
     },
     "execution_count": 101,
     "metadata": {},
     "output_type": "execute_result"
    }
   ],
   "source": [
    "model_fuel_kmpl.sort_values(\"Petrol\")[model_fuel_kmpl[\"Petrol\"]>0][\"Petrol\"].head(10)"
   ]
  },
  {
   "cell_type": "code",
   "execution_count": 105,
   "id": "82b34fd6-d2d0-4a56-bfcf-1596d23fc181",
   "metadata": {},
   "outputs": [
    {
     "data": {
      "text/plain": [
       "<Axes: xlabel='model'>"
      ]
     },
     "execution_count": 105,
     "metadata": {},
     "output_type": "execute_result"
    },
    {
     "data": {
      "image/png": "[encoded data removed]",
      "text/plain": [
       "<Figure size 1300x500 with 1 Axes>"
      ]
     },
     "metadata": {},
     "output_type": "display_data"
    }
   ],
   "source": [
    "model_fuel_kmpl.sort_values(\"Diesel\")[model_fuel_kmpl[\"Diesel\"]>0][\"Diesel\"].head(10).plot.bar(figsize=(13,5))"
   ]
  },
  {
   "cell_type": "code",
   "execution_count": 106,
   "id": "2e2423be-4d2c-4adf-a2fd-1d2f64073614",
   "metadata": {},
   "outputs": [
    {
     "data": {
      "text/plain": [
       "<Axes: xlabel='model'>"
      ]
     },
     "execution_count": 106,
     "metadata": {},
     "output_type": "execute_result"
    },
    {
     "data": {
      "image/png": "[encoded data removed]",
      "text/plain": [
       "<Figure size 1300x500 with 1 Axes>"
      ]
     },
     "metadata": {},
     "output_type": "display_data"
    }
   ],
   "source": [
    "model_fuel_kmpl.sort_values(\"Petrol\")[model_fuel_kmpl[\"Petrol\"]>0][\"Petrol\"].head(10).plot.bar(figsize=(13,5))"
   ]
  },
  {
   "cell_type": "code",
   "execution_count": 107,
   "id": "4f55e73d-a6bc-47e8-86af-27ef1239f647",
   "metadata": {},
   "outputs": [
    {
     "data": {
      "text/plain": [
       "<Axes: xlabel='model'>"
      ]
     },
     "execution_count": 107,
     "metadata": {},
     "output_type": "execute_result"
    },
    {
     "data": {
      "image/png": "[encoded data removed]",
      "text/plain": [
       "<Figure size 1300x500 with 1 Axes>"
      ]
     },
     "metadata": {},
     "output_type": "display_data"
    }
   ],
   "source": [
    "model_fuel_kmpl.sort_values(\"Petrol\", ascending=False)[\"Petrol\"].head(10).plot.bar(figsize=(13,5))"
   ]
  },
  {
   "cell_type": "code",
   "execution_count": 110,
   "id": "b4ea5d49-ca84-4490-b580-f1e6c8512257",
   "metadata": {},
   "outputs": [
    {
     "data": {
      "text/html": [
       "<div>\n",
       "<style scoped>\n",
       "    .dataframe tbody tr th:only-of-type {\n",
       "        vertical-align: middle;\n",
       "    }\n",
       "\n",
       "    .dataframe tbody tr th {\n",
       "        vertical-align: top;\n",
       "    }\n",
       "\n",
       "    .dataframe thead th {\n",
       "        text-align: right;\n",
       "    }\n",
       "</style>\n",
       "<table border=\"1\" class=\"dataframe\">\n",
       "  <thead>\n",
       "    <tr style=\"text-align: right;\">\n",
       "      <th></th>\n",
       "      <th>model</th>\n",
       "      <th>year</th>\n",
       "      <th>price</th>\n",
       "      <th>transmission</th>\n",
       "      <th>fuelType</th>\n",
       "      <th>tax</th>\n",
       "      <th>engineSize</th>\n",
       "      <th>Manufacturer</th>\n",
       "      <th>kmpl</th>\n",
       "    </tr>\n",
       "  </thead>\n",
       "  <tbody>\n",
       "    <tr>\n",
       "      <th>0</th>\n",
       "      <td>I10</td>\n",
       "      <td>2017</td>\n",
       "      <td>676274</td>\n",
       "      <td>Manual</td>\n",
       "      <td>Petrol</td>\n",
       "      <td>145</td>\n",
       "      <td>1.0</td>\n",
       "      <td>hyundi</td>\n",
       "      <td>25.55</td>\n",
       "    </tr>\n",
       "    <tr>\n",
       "      <th>1</th>\n",
       "      <td>Polo</td>\n",
       "      <td>2017</td>\n",
       "      <td>991537</td>\n",
       "      <td>Manual</td>\n",
       "      <td>Petrol</td>\n",
       "      <td>145</td>\n",
       "      <td>1.0</td>\n",
       "      <td>volkswagen</td>\n",
       "      <td>25.04</td>\n",
       "    </tr>\n",
       "    <tr>\n",
       "      <th>2</th>\n",
       "      <td>2 Series</td>\n",
       "      <td>2019</td>\n",
       "      <td>2525538</td>\n",
       "      <td>Semi-Auto</td>\n",
       "      <td>Diesel</td>\n",
       "      <td>145</td>\n",
       "      <td>2.0</td>\n",
       "      <td>BMW</td>\n",
       "      <td>21.09</td>\n",
       "    </tr>\n",
       "    <tr>\n",
       "      <th>3</th>\n",
       "      <td>Yeti Outdoor</td>\n",
       "      <td>2017</td>\n",
       "      <td>1127424</td>\n",
       "      <td>Manual</td>\n",
       "      <td>Diesel</td>\n",
       "      <td>150</td>\n",
       "      <td>2.0</td>\n",
       "      <td>skoda</td>\n",
       "      <td>26.70</td>\n",
       "    </tr>\n",
       "    <tr>\n",
       "      <th>4</th>\n",
       "      <td>Fiesta</td>\n",
       "      <td>2017</td>\n",
       "      <td>721750</td>\n",
       "      <td>Manual</td>\n",
       "      <td>Petrol</td>\n",
       "      <td>125</td>\n",
       "      <td>1.2</td>\n",
       "      <td>ford</td>\n",
       "      <td>23.08</td>\n",
       "    </tr>\n",
       "  </tbody>\n",
       "</table>\n",
       "</div>"
      ],
      "text/plain": [
       "           model  year    price transmission fuelType  tax  engineSize  \\\n",
       "0            I10  2017   676274       Manual   Petrol  145         1.0   \n",
       "1           Polo  2017   991537       Manual   Petrol  145         1.0   \n",
       "2       2 Series  2019  2525538    Semi-Auto   Diesel  145         2.0   \n",
       "3   Yeti Outdoor  2017  1127424       Manual   Diesel  150         2.0   \n",
       "4         Fiesta  2017   721750       Manual   Petrol  125         1.2   \n",
       "\n",
       "  Manufacturer   kmpl  \n",
       "0       hyundi  25.55  \n",
       "1   volkswagen  25.04  \n",
       "2          BMW  21.09  \n",
       "3        skoda  26.70  \n",
       "4         ford  23.08  "
      ]
     },
     "execution_count": 110,
     "metadata": {},
     "output_type": "execute_result"
    }
   ],
   "source": [
    "df.head()"
   ]
  },
  {
   "cell_type": "code",
   "execution_count": 117,
   "id": "3f5c54a3-40c2-4bfe-a9f4-8805abb44b58",
   "metadata": {},
   "outputs": [
    {
     "data": {
      "text/plain": [
       "<Axes: ylabel='transmission'>"
      ]
     },
     "execution_count": 117,
     "metadata": {},
     "output_type": "execute_result"
    },
    {
     "data": {
      "image/png": "[encoded data removed]",
      "text/plain": [
       "<Figure size 640x480 with 1 Axes>"
      ]
     },
     "metadata": {},
     "output_type": "display_data"
    }
   ],
   "source": [
    "np.round(df.groupby(\"transmission\")[\"price\"].mean()).plot.barh()"
   ]
  },
  {
   "cell_type": "code",
   "execution_count": 118,
   "id": "ec8df481-8077-4036-b885-5105b9c04b05",
   "metadata": {},
   "outputs": [
    {
     "data": {
      "text/html": [
       "<div>\n",
       "<style scoped>\n",
       "    .dataframe tbody tr th:only-of-type {\n",
       "        vertical-align: middle;\n",
       "    }\n",
       "\n",
       "    .dataframe tbody tr th {\n",
       "        vertical-align: top;\n",
       "    }\n",
       "\n",
       "    .dataframe thead th {\n",
       "        text-align: right;\n",
       "    }\n",
       "</style>\n",
       "<table border=\"1\" class=\"dataframe\">\n",
       "  <thead>\n",
       "    <tr style=\"text-align: right;\">\n",
       "      <th>fuelType</th>\n",
       "      <th>Diesel</th>\n",
       "      <th>Electric</th>\n",
       "      <th>Hybrid</th>\n",
       "      <th>Petrol</th>\n",
       "    </tr>\n",
       "    <tr>\n",
       "      <th>transmission</th>\n",
       "      <th></th>\n",
       "      <th></th>\n",
       "      <th></th>\n",
       "      <th></th>\n",
       "    </tr>\n",
       "  </thead>\n",
       "  <tbody>\n",
       "    <tr>\n",
       "      <th>Automatic</th>\n",
       "      <td>10177</td>\n",
       "      <td>6</td>\n",
       "      <td>2677</td>\n",
       "      <td>6461</td>\n",
       "    </tr>\n",
       "    <tr>\n",
       "      <th>Manual</th>\n",
       "      <td>17309</td>\n",
       "      <td>0</td>\n",
       "      <td>26</td>\n",
       "      <td>37227</td>\n",
       "    </tr>\n",
       "    <tr>\n",
       "      <th>Semi-Auto</th>\n",
       "      <td>12479</td>\n",
       "      <td>0</td>\n",
       "      <td>342</td>\n",
       "      <td>9452</td>\n",
       "    </tr>\n",
       "  </tbody>\n",
       "</table>\n",
       "</div>"
      ],
      "text/plain": [
       "fuelType      Diesel  Electric  Hybrid  Petrol\n",
       "transmission                                  \n",
       "Automatic      10177         6    2677    6461\n",
       "Manual         17309         0      26   37227\n",
       "Semi-Auto      12479         0     342    9452"
      ]
     },
     "execution_count": 118,
     "metadata": {},
     "output_type": "execute_result"
    }
   ],
   "source": [
    "pd.crosstab(df[\"transmission\"], df[\"fuelType\"])"
   ]
  },
  {
   "cell_type": "code",
   "execution_count": 124,
   "id": "42c1d81f-f29b-4ebd-adfc-9538be47dca0",
   "metadata": {},
   "outputs": [
    {
     "data": {
      "text/plain": [
       "<Axes: xlabel='fuelType', ylabel='transmission'>"
      ]
     },
     "execution_count": 124,
     "metadata": {},
     "output_type": "execute_result"
    },
    {
     "data": {
      "image/png": "[encoded data removed]",
      "text/plain": [
       "<Figure size 640x480 with 2 Axes>"
      ]
     },
     "metadata": {},
     "output_type": "display_data"
    }
   ],
   "source": [
    "sns.heatmap(pd.crosstab(df[\"transmission\"], df[\"fuelType\"]), annot=True, fmt=\"d\")"
   ]
  },
  {
   "cell_type": "code",
   "execution_count": 125,
   "id": "01e2e104-9b3b-43aa-a954-0d4d353767ee",
   "metadata": {},
   "outputs": [],
   "source": [
    "# Groupby - Object and Numeric column\n",
    "# Crosstab - Object and Object\n",
    "# Pivot_table - 2 object column and 1 numeric column\n",
    "# Filters\n",
    "# Sorting"
   ]
  },
  {
   "cell_type": "code",
   "execution_count": 126,
   "id": "d30d008d-6a55-4e86-8199-1bd09e934e3b",
   "metadata": {},
   "outputs": [
    {
     "data": {
      "text/html": [
       "<div>\n",
       "<style scoped>\n",
       "    .dataframe tbody tr th:only-of-type {\n",
       "        vertical-align: middle;\n",
       "    }\n",
       "\n",
       "    .dataframe tbody tr th {\n",
       "        vertical-align: top;\n",
       "    }\n",
       "\n",
       "    .dataframe thead th {\n",
       "        text-align: right;\n",
       "    }\n",
       "</style>\n",
       "<table border=\"1\" class=\"dataframe\">\n",
       "  <thead>\n",
       "    <tr style=\"text-align: right;\">\n",
       "      <th></th>\n",
       "      <th>model</th>\n",
       "      <th>year</th>\n",
       "      <th>price</th>\n",
       "      <th>transmission</th>\n",
       "      <th>fuelType</th>\n",
       "      <th>tax</th>\n",
       "      <th>engineSize</th>\n",
       "      <th>Manufacturer</th>\n",
       "      <th>kmpl</th>\n",
       "    </tr>\n",
       "  </thead>\n",
       "  <tbody>\n",
       "    <tr>\n",
       "      <th>0</th>\n",
       "      <td>I10</td>\n",
       "      <td>2017</td>\n",
       "      <td>676274</td>\n",
       "      <td>Manual</td>\n",
       "      <td>Petrol</td>\n",
       "      <td>145</td>\n",
       "      <td>1.0</td>\n",
       "      <td>hyundi</td>\n",
       "      <td>25.55</td>\n",
       "    </tr>\n",
       "    <tr>\n",
       "      <th>1</th>\n",
       "      <td>Polo</td>\n",
       "      <td>2017</td>\n",
       "      <td>991537</td>\n",
       "      <td>Manual</td>\n",
       "      <td>Petrol</td>\n",
       "      <td>145</td>\n",
       "      <td>1.0</td>\n",
       "      <td>volkswagen</td>\n",
       "      <td>25.04</td>\n",
       "    </tr>\n",
       "    <tr>\n",
       "      <th>2</th>\n",
       "      <td>2 Series</td>\n",
       "      <td>2019</td>\n",
       "      <td>2525538</td>\n",
       "      <td>Semi-Auto</td>\n",
       "      <td>Diesel</td>\n",
       "      <td>145</td>\n",
       "      <td>2.0</td>\n",
       "      <td>BMW</td>\n",
       "      <td>21.09</td>\n",
       "    </tr>\n",
       "    <tr>\n",
       "      <th>3</th>\n",
       "      <td>Yeti Outdoor</td>\n",
       "      <td>2017</td>\n",
       "      <td>1127424</td>\n",
       "      <td>Manual</td>\n",
       "      <td>Diesel</td>\n",
       "      <td>150</td>\n",
       "      <td>2.0</td>\n",
       "      <td>skoda</td>\n",
       "      <td>26.70</td>\n",
       "    </tr>\n",
       "    <tr>\n",
       "      <th>4</th>\n",
       "      <td>Fiesta</td>\n",
       "      <td>2017</td>\n",
       "      <td>721750</td>\n",
       "      <td>Manual</td>\n",
       "      <td>Petrol</td>\n",
       "      <td>125</td>\n",
       "      <td>1.2</td>\n",
       "      <td>ford</td>\n",
       "      <td>23.08</td>\n",
       "    </tr>\n",
       "  </tbody>\n",
       "</table>\n",
       "</div>"
      ],
      "text/plain": [
       "           model  year    price transmission fuelType  tax  engineSize  \\\n",
       "0            I10  2017   676274       Manual   Petrol  145         1.0   \n",
       "1           Polo  2017   991537       Manual   Petrol  145         1.0   \n",
       "2       2 Series  2019  2525538    Semi-Auto   Diesel  145         2.0   \n",
       "3   Yeti Outdoor  2017  1127424       Manual   Diesel  150         2.0   \n",
       "4         Fiesta  2017   721750       Manual   Petrol  125         1.2   \n",
       "\n",
       "  Manufacturer   kmpl  \n",
       "0       hyundi  25.55  \n",
       "1   volkswagen  25.04  \n",
       "2          BMW  21.09  \n",
       "3        skoda  26.70  \n",
       "4         ford  23.08  "
      ]
     },
     "execution_count": 126,
     "metadata": {},
     "output_type": "execute_result"
    }
   ],
   "source": [
    "df.head()"
   ]
  },
  {
   "cell_type": "code",
   "execution_count": 127,
   "id": "18b411b6-5f43-4cce-9b49-37b78de92313",
   "metadata": {},
   "outputs": [
    {
     "data": {
      "text/plain": [
       "transmission\n",
       "Automatic    23.494876\n",
       "Manual       24.180882\n",
       "Semi-Auto    21.834309\n",
       "Name: kmpl, dtype: float64"
      ]
     },
     "execution_count": 127,
     "metadata": {},
     "output_type": "execute_result"
    }
   ],
   "source": [
    "df.groupby(\"transmission\")[\"kmpl\"].mean()"
   ]
  },
  {
   "cell_type": "code",
   "execution_count": 128,
   "id": "037e027d-ddbc-4941-8fd6-f4f83d3250b8",
   "metadata": {},
   "outputs": [
    {
     "data": {
      "text/plain": [
       "fuelType\n",
       "Diesel       24.808244\n",
       "Electric    126.291667\n",
       "Hybrid       37.864292\n",
       "Petrol       21.680492\n",
       "Name: kmpl, dtype: float64"
      ]
     },
     "execution_count": 128,
     "metadata": {},
     "output_type": "execute_result"
    }
   ],
   "source": [
    "df.groupby(\"fuelType\")[\"kmpl\"].mean()"
   ]
  },
  {
   "cell_type": "code",
   "execution_count": 131,
   "id": "84cd8dd1-4a7d-4b07-b4d7-89de79ea323b",
   "metadata": {},
   "outputs": [
    {
     "data": {
      "text/plain": [
       "Manufacturer\n",
       "toyota        26.876162\n",
       "ford          24.694817\n",
       "skoda         24.080506\n",
       "BMW           23.900472\n",
       "merc          23.556968\n",
       "hyundi        22.908514\n",
       "volkswagen    22.890121\n",
       "vauxhall      21.940086\n",
       "Audi          21.661267\n",
       "Name: kmpl, dtype: float64"
      ]
     },
     "execution_count": 131,
     "metadata": {},
     "output_type": "execute_result"
    }
   ],
   "source": [
    "df.groupby(\"Manufacturer\")[\"kmpl\"].mean().sort_values(ascending=False)"
   ]
  },
  {
   "cell_type": "code",
   "execution_count": 134,
   "id": "d893dd9c-0ac1-40c8-8bb6-ee5aa3968bb3",
   "metadata": {},
   "outputs": [
    {
     "data": {
      "text/plain": [
       "fuelType\n",
       "Petrol      1344505.0\n",
       "Electric    1501908.0\n",
       "Hybrid      1742047.0\n",
       "Diesel      1756896.0\n",
       "Name: price, dtype: float64"
      ]
     },
     "execution_count": 134,
     "metadata": {},
     "output_type": "execute_result"
    }
   ],
   "source": [
    "np.round(df.groupby(\"fuelType\")[\"price\"].mean().sort_values())"
   ]
  },
  {
   "cell_type": "code",
   "execution_count": 135,
   "id": "b4fe6e04-a7d0-4bdb-a8a0-b5914ac08687",
   "metadata": {},
   "outputs": [
    {
     "data": {
      "text/html": [
       "<div>\n",
       "<style scoped>\n",
       "    .dataframe tbody tr th:only-of-type {\n",
       "        vertical-align: middle;\n",
       "    }\n",
       "\n",
       "    .dataframe tbody tr th {\n",
       "        vertical-align: top;\n",
       "    }\n",
       "\n",
       "    .dataframe thead th {\n",
       "        text-align: right;\n",
       "    }\n",
       "</style>\n",
       "<table border=\"1\" class=\"dataframe\">\n",
       "  <thead>\n",
       "    <tr style=\"text-align: right;\">\n",
       "      <th></th>\n",
       "      <th>model</th>\n",
       "      <th>year</th>\n",
       "      <th>price</th>\n",
       "      <th>transmission</th>\n",
       "      <th>fuelType</th>\n",
       "      <th>tax</th>\n",
       "      <th>engineSize</th>\n",
       "      <th>Manufacturer</th>\n",
       "      <th>kmpl</th>\n",
       "    </tr>\n",
       "  </thead>\n",
       "  <tbody>\n",
       "    <tr>\n",
       "      <th>0</th>\n",
       "      <td>I10</td>\n",
       "      <td>2017</td>\n",
       "      <td>676274</td>\n",
       "      <td>Manual</td>\n",
       "      <td>Petrol</td>\n",
       "      <td>145</td>\n",
       "      <td>1.0</td>\n",
       "      <td>hyundi</td>\n",
       "      <td>25.55</td>\n",
       "    </tr>\n",
       "    <tr>\n",
       "      <th>1</th>\n",
       "      <td>Polo</td>\n",
       "      <td>2017</td>\n",
       "      <td>991537</td>\n",
       "      <td>Manual</td>\n",
       "      <td>Petrol</td>\n",
       "      <td>145</td>\n",
       "      <td>1.0</td>\n",
       "      <td>volkswagen</td>\n",
       "      <td>25.04</td>\n",
       "    </tr>\n",
       "    <tr>\n",
       "      <th>2</th>\n",
       "      <td>2 Series</td>\n",
       "      <td>2019</td>\n",
       "      <td>2525538</td>\n",
       "      <td>Semi-Auto</td>\n",
       "      <td>Diesel</td>\n",
       "      <td>145</td>\n",
       "      <td>2.0</td>\n",
       "      <td>BMW</td>\n",
       "      <td>21.09</td>\n",
       "    </tr>\n",
       "    <tr>\n",
       "      <th>3</th>\n",
       "      <td>Yeti Outdoor</td>\n",
       "      <td>2017</td>\n",
       "      <td>1127424</td>\n",
       "      <td>Manual</td>\n",
       "      <td>Diesel</td>\n",
       "      <td>150</td>\n",
       "      <td>2.0</td>\n",
       "      <td>skoda</td>\n",
       "      <td>26.70</td>\n",
       "    </tr>\n",
       "    <tr>\n",
       "      <th>4</th>\n",
       "      <td>Fiesta</td>\n",
       "      <td>2017</td>\n",
       "      <td>721750</td>\n",
       "      <td>Manual</td>\n",
       "      <td>Petrol</td>\n",
       "      <td>125</td>\n",
       "      <td>1.2</td>\n",
       "      <td>ford</td>\n",
       "      <td>23.08</td>\n",
       "    </tr>\n",
       "    <tr>\n",
       "      <th>5</th>\n",
       "      <td>C-HR</td>\n",
       "      <td>2019</td>\n",
       "      <td>2417352</td>\n",
       "      <td>Automatic</td>\n",
       "      <td>Hybrid</td>\n",
       "      <td>135</td>\n",
       "      <td>1.8</td>\n",
       "      <td>toyota</td>\n",
       "      <td>31.59</td>\n",
       "    </tr>\n",
       "    <tr>\n",
       "      <th>6</th>\n",
       "      <td>Kuga</td>\n",
       "      <td>2019</td>\n",
       "      <td>1623238</td>\n",
       "      <td>Manual</td>\n",
       "      <td>Petrol</td>\n",
       "      <td>145</td>\n",
       "      <td>1.5</td>\n",
       "      <td>ford</td>\n",
       "      <td>14.62</td>\n",
       "    </tr>\n",
       "    <tr>\n",
       "      <th>7</th>\n",
       "      <td>Tiguan</td>\n",
       "      <td>2019</td>\n",
       "      <td>2480423</td>\n",
       "      <td>Semi-Auto</td>\n",
       "      <td>Petrol</td>\n",
       "      <td>145</td>\n",
       "      <td>2.0</td>\n",
       "      <td>volkswagen</td>\n",
       "      <td>12.92</td>\n",
       "    </tr>\n",
       "    <tr>\n",
       "      <th>8</th>\n",
       "      <td>Fiesta</td>\n",
       "      <td>2018</td>\n",
       "      <td>892465</td>\n",
       "      <td>Manual</td>\n",
       "      <td>Petrol</td>\n",
       "      <td>145</td>\n",
       "      <td>1.0</td>\n",
       "      <td>ford</td>\n",
       "      <td>27.93</td>\n",
       "    </tr>\n",
       "    <tr>\n",
       "      <th>9</th>\n",
       "      <td>A Class</td>\n",
       "      <td>2017</td>\n",
       "      <td>1578845</td>\n",
       "      <td>Manual</td>\n",
       "      <td>Diesel</td>\n",
       "      <td>30</td>\n",
       "      <td>2.1</td>\n",
       "      <td>merc</td>\n",
       "      <td>26.70</td>\n",
       "    </tr>\n",
       "  </tbody>\n",
       "</table>\n",
       "</div>"
      ],
      "text/plain": [
       "           model  year    price transmission fuelType  tax  engineSize  \\\n",
       "0            I10  2017   676274       Manual   Petrol  145         1.0   \n",
       "1           Polo  2017   991537       Manual   Petrol  145         1.0   \n",
       "2       2 Series  2019  2525538    Semi-Auto   Diesel  145         2.0   \n",
       "3   Yeti Outdoor  2017  1127424       Manual   Diesel  150         2.0   \n",
       "4         Fiesta  2017   721750       Manual   Petrol  125         1.2   \n",
       "5           C-HR  2019  2417352    Automatic   Hybrid  135         1.8   \n",
       "6           Kuga  2019  1623238       Manual   Petrol  145         1.5   \n",
       "7         Tiguan  2019  2480423    Semi-Auto   Petrol  145         2.0   \n",
       "8         Fiesta  2018   892465       Manual   Petrol  145         1.0   \n",
       "9        A Class  2017  1578845       Manual   Diesel   30         2.1   \n",
       "\n",
       "  Manufacturer   kmpl  \n",
       "0       hyundi  25.55  \n",
       "1   volkswagen  25.04  \n",
       "2          BMW  21.09  \n",
       "3        skoda  26.70  \n",
       "4         ford  23.08  \n",
       "5       toyota  31.59  \n",
       "6         ford  14.62  \n",
       "7   volkswagen  12.92  \n",
       "8         ford  27.93  \n",
       "9         merc  26.70  "
      ]
     },
     "execution_count": 135,
     "metadata": {},
     "output_type": "execute_result"
    }
   ],
   "source": [
    "df.head(10)"
   ]
  },
  {
   "cell_type": "code",
   "execution_count": null,
   "id": "394f43b8-b203-4267-bd3b-6d8652230d86",
   "metadata": {},
   "outputs": [],
   "source": []
  }
 ],
 "metadata": {
  "kernelspec": {
   "display_name": "Python 3 (ipykernel)",
   "language": "python",
   "name": "python3"
  },
  "language_info": {
   "codemirror_mode": {
    "name": "ipython",
    "version": 3
   },
   "file_extension": ".py",
   "mimetype": "text/x-python",
   "name": "python",
   "nbconvert_exporter": "python",
   "pygments_lexer": "ipython3",
   "version": "3.11.7"
  }
 },
 "nbformat": 4,
 "nbformat_minor": 5
}
